{
 "cells": [
  {
   "cell_type": "markdown",
   "id": "04bc80ab-ec37-4fc5-9714-447973f1f682",
   "metadata": {},
   "source": [
    "<center><h1>Modeling an Electron in a Field of Secured Point Charges</h1></center>"
   ]
  },
  {
   "cell_type": "markdown",
   "id": "7d1f16bf-6c24-482a-8f1c-92b66d9f55ee",
   "metadata": {},
   "source": [
    "<h2>Introduction</h2>\n",
    "<p>Kinetics typically makes sense. You can see kinetics. But, you can't really see an electric field. The idea that an electron will move towards a positive charge and away from a negative charge might make sense, but it can be difficult to visualize where an electron might go in a more complicated field of charges. This project is about helping students in physics classes understand how electrons are moved in electric fields</p>\n",
    "<p>In my project, we are looking at an idealized simulation. The only forces present on the electron are the forces created by the charges, and those charges are all point charges fixed in place that won't be affected by each other. While not an extrememly realistic situation, it is a good situation for beginners to get a better understanding.</p>\n",
    "<p>The simulation relies on Coulomb's Law, which is used to calculate the force on a point charge by another point charge. It also uses Newton's Second Law (f=ma) to get acceleration from force. Finally, we use Reimann sums, as velocity is the area under the curve of acceleration and position the area under the curve of velocity.</p>"
   ]
  },
  {
   "cell_type": "markdown",
   "id": "d9cf7815-490c-4350-8355-59a04d082449",
   "metadata": {},
   "source": [
    "<h2>Methodology</h2>\n",
    "<h3>Imports and Libraries</h3>"
   ]
  },
  {
   "cell_type": "code",
   "execution_count": 2,
   "id": "14e3b7e5-124c-4a45-9b75-a041c36b326c",
   "metadata": {},
   "outputs": [],
   "source": [
    "import math #basic python math library, used for square rooting and getting pi\n",
    "#https://docs.python.org/3/library/math.html#\n",
    "import numpy as np #common library, source of numpy arrays which are easier to manipulate as vectors than your average python list\n",
    "#https://numpy.org/doc/stable/index.html\n",
    "\n",
    "from scipy.constants import e, m_e, epsilon_0 \n",
    "#physics constants I need, the charge of a proton or electron (e), the mass of an electron (m_e), and epsilon naught\n",
    "#https://docs.scipy.org/doc/scipy/reference/constants.html\n",
    "\n",
    "import matplotlib.pyplot as plt #for plotting data\n",
    "#https://matplotlib.org/3.5.3/api/_as_gen/matplotlib.pyplot.html\n",
    "import matplotlib.animation as animation #to create animation\n",
    "#https://matplotlib.org/stable/api/animation_api.html\n",
    "from IPython.display import HTML #making it possible to display my animation\n",
    "#https://ipython.readthedocs.io/en/stable/api/generated/IPython.display.html"
   ]
  },
  {
   "cell_type": "markdown",
   "id": "5b6d9a11-034f-4ef1-a6df-2676ebe26244",
   "metadata": {},
   "source": [
    "<p>The first part of making the simulation is getting all of the necessary functions and constants from libraries.</p>"
   ]
  },
  {
   "cell_type": "markdown",
   "id": "18a20fe3-6f88-415b-9caa-e25a9cd76d2e",
   "metadata": {},
   "source": [
    "<h4>Level 1</h4>\n",
    "<p>Using libraries in code is like using an actual library, where you borrow parts of other people's code to solve a problem the way you would borrow a book from a library. For this simulation, we need to borrow from a couple of different libraries.</p> \n",
    "<p>\"math\" is a built-in library to Python, it is like a school library, where you still need to borrow books but you don't have to go anywhere to get them. \"math\" contains sqrt(), which allows us to square root things, and pi, which is the numner pi.</p>\n",
    "<p>\"numpy\" is a library that is all about a special type of list, known as a ndarray. ndarrays are useful because they can work as vectors, allowing us to get new velocities and positions through addition.</p>\n",
    "<p>\"scipy.constants\" is a library that contains various scientific constants. The constants we need are \"e\", which is the charge of a single proton or electron, \"m_e\", which is the mass of an electron, and \"epsilon_0\", which is the electric constant when in a vacuum, which we need for Coulomb's Law.</p>\n",
    "<p>from \"matplotlib\" we take \"pyplot\" and \"animation\". \"pyplot\" allows us to make plots (specifically scatter plots for our purposes), while \"animation\" will let us turn those plots into animations.</p>\n",
    "<p>Lastly, from \"IPython.display\" we have \"HTML\", which allows us to make the animation visible to users, not just coders.</p>"
   ]
  },
  {
   "cell_type": "markdown",
   "id": "bec96f09-7b6d-4d0b-8e86-68b038a964c3",
   "metadata": {},
   "source": [
    "<h4>Level 2</h4>\n",
    "<p>Here, we are importing a couple of full libraries (math, numpy), parts of libraries (such as matplotlib.pyplot and .animation), and specific functions and constants (e, m_e, etc)</p>\n",
    "<p>\"math\" and \"numpy\" are allowing us to do the arithmetic we need to do to create the simulation. We need \"math\" because Coulomb's law has pi, and we need to take a square root to get the distance between two points, as the distance is the magnitude of the vector between them. \"numpy\" gives us ndarrays, which are a special type of list that have a fixed length, but you can do mathematical operation on them, such as adding them together. A normal Python list just makes a new list containing both lists, while if you add two ndarrays of the same size, they add the elements that are in the same spot to create an ndarray of the same length as them, which will allow us to add the change in position to the position to get the new position</p>\n",
    "<p>Next, we're getting parts of libraries, \"matplotlib.pyplot\" and \"matplotlib.animation\". These are the backbone of the simulation, as while the other parts work to do the science behind the simulation, these make the simulation actually exist as visuals instead of strings of numbers. \"matplotlib.pyplot\" is where the scatter plot of charges and electron are being made, along with a legend to help make the simulation more understandable. Then, \"matplotlib.animation\" allows us to have the scatter plot update with the movements of the electron, turning the plot into an animation.</p>\n",
    "<p>\"scipy\" has constants and functions for scientific computing, but this project only requies constants. Since we just need a couple of specific constants, I found the names for those constants in \"scipy.constants\" and imported them. \"IPython.display\" has various functions for displaying code, the one we use it \"HTML\", which takes in data then creates an object that can be viewed on the frontend. By using this, we are able to fully see the animation and control whether it is going or not, since if we just show the plot without moving it into the frontend we can only see one frame.</p>"
   ]
  },
  {
   "cell_type": "markdown",
   "id": "896e1310-2d92-4f98-9e51-3b1aba7e2e2d",
   "metadata": {},
   "source": [
    "<h4>Level 3</h4>\n",
    "<p>There isn't more to say here, import statements aren't extremely complicated.</p>"
   ]
  },
  {
   "cell_type": "code",
   "execution_count": 3,
   "id": "2f47a2f7-f89f-475b-8a15-dec9c6ee932b",
   "metadata": {},
   "outputs": [],
   "source": [
    "class Charge: #class to create Charge objects, which will make it easier to work with charges\n",
    "\n",
    "    def __init__(self, x, y, charge): #initiation function, magic method\n",
    "        self.position = np.array([float(x), float(y)]) ##creating the position, using the given x and y coordinates, as an array\n",
    "        #https://numpy.org/doc/stable/reference/generated/numpy.array.html\n",
    "        self.charge = charge #getting the charge of the particle\n",
    "\n",
    "    def get_position(self): #function to get the position of a charge\n",
    "        return self.position #return the position\n",
    "\n",
    "    def get_charge(self): #function to get the charge of a charge\n",
    "        return self.charge #return the charge"
   ]
  },
  {
   "cell_type": "markdown",
   "id": "2e6cef1e-a6f3-496b-a49a-f44b6ef4e02e",
   "metadata": {},
   "source": [
    "<p>The second thing for this simulation is making it possible to create charges through designing a Charge Object.</p>"
   ]
  },
  {
   "cell_type": "markdown",
   "id": "63ceee40-d2c9-4062-941c-8515773ac3e3",
   "metadata": {},
   "source": [
    "<h4>Level 1</h4>\n",
    "<p>In Python, a class is how you make an Object. Programming Objects are containers for when you want to make specific types of things, or want to have one variable that is containing multiple elements of information. Objects can have variable and functions, called methods, held inside of them. Then, when you create an Object, it will have those variables and be able to use those methods.</p>\n",
    "<p>Here is a Charge Objects. Charges have a two pieces of information that they need to exist, a location and a charge. So, when a charge is created, you need to enter in the x and y positions, so it has a location, and the value (negative or positive) of the charge. Alongside creating the charge, we have two methods, get_position() and get_charge(). The purpose of these is so when we want to know the position of the charge or the charge of the charge in the future, we can easily access it through these getter methods.</p>"
   ]
  },
  {
   "cell_type": "markdown",
   "id": "bd5ccac5-5654-45bc-9ca9-5015f040852e",
   "metadata": {},
   "source": [
    "<h4>Level 2</h4>\n",
    "<p>The purpose of the Charge Object is to have a consistent system for charges, as charges as held stationary in this model, there is nothing that can change them, but they make it much easier to store the data. The position of a charge is held as a ndarray instead of a list because when you need to find the distance (in vector form) between a charge and an electron, it is much easier to use an ndarray for both because then you can just subtractthe position of a charge from the position of the electron. While I'm not making these variable private, I'm still using getter methods (get_position() and get_charge()) to make the code more clear and because in languages other than Python require these and it's a good habit to keep.</p>"
   ]
  },
  {
   "cell_type": "markdown",
   "id": "6be3f5b6-4e46-4de7-af43-46210794d05b",
   "metadata": {},
   "source": [
    "<h4>Level 3</h4>\n",
    "<p>This is an Object that I'll be using to hold the charges. I've made the decision to use getter methods as practice for if I'm not in Python, though technically this Object would work with just initiation. The initiation is a magic method. If a user does not give a float for a position, the position will be transformed into a float, which makes math easier, but it will cause problems if x and y aren't numbers. While this problem is not dealt with in the Object itself, part of the process to create the charges will make it so users have to give a valid number for the x and y values, along with the charge value.</p>"
   ]
  },
  {
   "cell_type": "code",
   "execution_count": 4,
   "id": "ee7c0e9c-3b22-4eef-83fa-82a724705e51",
   "metadata": {},
   "outputs": [],
   "source": [
    "class Electron: #class to create Electron objects, which will allow me to make functions for electrons\n",
    "\n",
    "    def __init__(self, x, y): #initiation function, magic method\n",
    "        self.position = np.array([float(x), float(y)]) #creating the position, using the given x and y coordinates, as an array\n",
    "        self.charge = -e #all electrons have a charge of -e\n",
    "        self.velocity = np.array([0.0, 0.0]) #start with 0 velocity\n",
    "        self.acceleration = np.array([0.0, 0.0]) #start with 0 acceleration\n",
    "\n",
    "    def get_position(self): #function to get the position of an electrno\n",
    "        return self.position #return the position\n",
    "\n",
    "    def get_velocity(self):\n",
    "        return self.velocity\n",
    "    \n",
    "    def get_acceleration(self): #return the acceleration\n",
    "        return self.acceleration #return acceleration\n",
    "\n",
    "    def get_force(self, charges): #function to get the sum of all the forces on an electron\n",
    "        force = np.array([0.0, 0.0]) #start with 0\n",
    "        for charge in charges: #then go through each charge\n",
    "            r = math.sqrt((charge.get_position() - self.get_position())[0] ** 2 + (charge.get_position() - self.get_position())[1] ** 2)\n",
    "            #get the distance from electron to charge\n",
    "            force += (self.get_position() - charge.get_position()) * charge.get_charge() * self.charge / 4 / math.pi / epsilon_0 / (r ** 3)\n",
    "            #use Coulomb's Law to find the force a single charge places on the electron and add it to the current force\n",
    "        self.acceleration = force / m_e / 100 #Newton's second law, f=ma, so a=f/m\n",
    "\n",
    "    def update_velocity(self): #changing velocity\n",
    "        self.velocity += self.acceleration #small increments, velocity changes by acceleration\n",
    "\n",
    "    def update_position(self): #changing position\n",
    "        self.position += self.velocity #small increments, position changes by velocity"
   ]
  },
  {
   "cell_type": "markdown",
   "id": "9656339f-5173-49f3-a68a-f3cc65aaaaf2",
   "metadata": {},
   "source": [
    "<p>Next is creating an Electron Object, that allows the electron to hold different values (position, velocity, acceleration, and charge) and gives me the ability to give Electron's methods for the various things that happen to electrons.</p>"
   ]
  },
  {
   "cell_type": "markdown",
   "id": "fe6eb60f-ac03-4bc4-98d3-8a9fc81943cc",
   "metadata": {},
   "source": [
    "<h4>Level 1</h4>"
   ]
  },
  {
   "cell_type": "markdown",
   "id": "b6c884aa-c71e-41e3-b8d5-9cd2e96bb96c",
   "metadata": {},
   "source": [
    "<h4>Level 2</h4>\n",
    "<p>The Electron Object is similiar to the Charge Object, but it has more capabilties because we need to do more with it. In addition to having a position and charge, electrons have velocity and acceleration because they move. Also, since you never need to get the charge of an electron, we don't have a getter method for charge but we do for acceleration, velocity, and position. Additionally, we have methods that impact of our electron.</p>\n",
    "<p>The first method is get_force(self, charges), which takes all of the charges present in our field. It computes the amount of force each individual charge places on the electron, then adds them all together to get the final force. Force is found using Coulomb's Law, which computes the force on a point charge created by another point charge. Couloumb' Law is \n",
    "$$\n",
    "use by the mass of an electron. \n",
    "$$\n",
    "We use a loop to go through each charge, finding the distance between the charge and the electron, and plugging all of our variable in. Once we have the complete charge, we use Newton's Second Law (f=ma) to determine the acceleration as force divided by the mass of an electron. I divide this number by 100 in order to m make a better model, as it will otherwise overshoot because the model corrects every frame, not immediately, which can result in problems when the electron moves a lot at once.</p>\n",
    "<p>update_velocity() and update_position() both opperate by adding the acceleration and velocity respectively to the current velocity and position. Since velocity is the area under the curve of acceleration, you can compute velocity by adding together all of the accelerations, and since we move a little at a time, we can use the method of adding the current acceleration to the current velocity to get the new velocity. This same method works for position, as position is the area under the curve of velocity.</p>"
   ]
  },
  {
   "cell_type": "markdown",
   "id": "8a4cd426-1c7f-4f72-8d83-733f9ceac781",
   "metadata": {},
   "source": [
    "<h4>Level 3</h4>"
   ]
  },
  {
   "cell_type": "code",
   "execution_count": 5,
   "id": "07fe8bee-61b0-4912-bf60-eabd44c1c3a0",
   "metadata": {},
   "outputs": [],
   "source": [
    "def electron_update(charges, electron): #function to update the state of the electron\n",
    "\n",
    "    electron.get_force(charges) #getting the current force\n",
    "    electron.update_velocity() #updating velocity\n",
    "    electron.update_position() #updating position"
   ]
  },
  {
   "cell_type": "markdown",
   "id": "d62424db-aba9-424f-90c4-f05e71302d40",
   "metadata": {},
   "source": [
    "<p>Here is a function that allows us to go through all of the elements of getting the movement of an electron.</p>"
   ]
  },
  {
   "cell_type": "markdown",
   "id": "9a5e2829-3ed3-4340-8be7-d614f4f95b3c",
   "metadata": {},
   "source": [
    "<h4>Level 1</h4>"
   ]
  },
  {
   "cell_type": "markdown",
   "id": "78a02d48-06fa-4f0c-bdba-301dfe0d63ca",
   "metadata": {},
   "source": [
    "<h4>Level 2</h4>"
   ]
  },
  {
   "cell_type": "markdown",
   "id": "15ab4358-6456-4d37-b45b-c63579b91a1d",
   "metadata": {},
   "source": [
    "<h4>Level 3</h4>"
   ]
  },
  {
   "cell_type": "code",
   "execution_count": 1,
   "id": "ad9a75ea-3e4b-450b-aaf1-1a82c305f36b",
   "metadata": {},
   "outputs": [],
   "source": [
    "def gen(charges, electron): #making a generator function!\n",
    "    i = 1 #letting us start with 1 frame\n",
    "    sep = True #boolean to determine if you should continue\n",
    "    while sep:\n",
    "        #print(i)\n",
    "        for charge in charges: #look at each charge\n",
    "            if abs(electron.get_position()[0] - charge.get_position()[0]) < 2 and abs(electron.get_position()[1] - charge.get_position()[1]) < 2:\n",
    "            #if the electron is practically on the charge\n",
    "                sep = False #don't continue\n",
    "                print(\"on charge\") #let us know we are on a charge\n",
    "                print(charge.get_position(), electron.get_position()) #print both locations\n",
    "                print(abs(electron.get_position()[0] - charge.get_position()[0]), abs(electron.get_position()[1] - charge.get_position()[1])) #print distance\n",
    "                break #exit this loop\n",
    "        if abs(electron.get_position()[0]) > 100 or abs(electron.get_position()[1]) > 100: #if it's outside of the boundaries of the simulation\n",
    "            print(\"left boundaries\")\n",
    "            sep = False #don't continue\n",
    "        if np.array_equal(electron.get_velocity(), [0.0,0.0]) and np.array_equal(electron.get_acceleration(), [0.0, 0.0]): #if the velocity + acceleration is 0\n",
    "            print(\"no velocity/acceleration\") #let us know that the velocity/acceleration is 0\n",
    "            print(electron.get_velocity(), electron.get_acceleration()) #prove it\n",
    "            sep = False #don't continue\n",
    "        if sep == True: #if we still should continue\n",
    "            i += 1 #up the frame number\n",
    "            #print(i)\n",
    "            yield i #iteration version of return"
   ]
  },
  {
   "cell_type": "markdown",
   "id": "ac42f3bc-339b-4fe8-990a-9e9835d9d04d",
   "metadata": {},
   "source": [
    "<p>This is a generator functions, which allows for controlling how many frames the animation runs for without having to specify a number ahead of time.</p>"
   ]
  },
  {
   "cell_type": "markdown",
   "id": "e7e3cd37-e605-4408-98e8-26d6c737cb83",
   "metadata": {},
   "source": [
    "<h4>Level 1</h4>"
   ]
  },
  {
   "cell_type": "markdown",
   "id": "3ea1984c-9c27-4952-b70b-f3b5c05f9875",
   "metadata": {},
   "source": [
    "<h4>Level 2</h4>"
   ]
  },
  {
   "cell_type": "markdown",
   "id": "41ae031a-cde5-4ed2-8b7d-8dc6a5723157",
   "metadata": {},
   "source": [
    "<h4>Level 3</h4>"
   ]
  },
  {
   "cell_type": "code",
   "execution_count": 7,
   "id": "f5e44372-f04c-4edf-aac6-d192cc4cdfe3",
   "metadata": {},
   "outputs": [],
   "source": [
    "def create_animation(charges, electron): #creating the animation\n",
    "\n",
    "    fig, ax = plt.subplots() #needed elements of the plot\n",
    "    #https://matplotlib.org/stable/api/_as_gen/matplotlib.pyplot.subplots.html\n",
    "    \n",
    "    scatter = ax.scatter([c.get_position()[0] for c in charges if c.get_charge() > 0], [c.get_position()[1] for c in charges if c.get_charge() > 0], c=\"r\", label=\"+ charges\")\n",
    "    #placing all of the positive charges on the plot, coloring them red\n",
    "    #https://matplotlib.org/stable/api/_as_gen/matplotlib.axes.Axes.scatter.html#matplotlib.axes.Axes.scatter\n",
    "    scatter = ax.scatter([c.get_position()[0] for c in charges if c.get_charge() < 0], [c.get_position()[1] for c in charges if c.get_charge() < 0 ], c=\"b\", label=\"- charges\")\n",
    "    #placing all of the negative charges on the plot, coloring them blue\n",
    "    scatter = ax.scatter(electron.get_position()[0], electron.get_position()[1], c=\"g\", label=\"electron\")\n",
    "    #place the electron on the plot, coloring it green\n",
    "\n",
    "    ax.set_xlim([-100, 100]) #making the x-axis -100 to 100\n",
    "    #https://matplotlib.org/stable/api/_as_gen/matplotlib.axes.Axes.set_xlim.html\n",
    "    ax.set_ylim([-100, 100]) #making the y-axis -100 to 100\n",
    "    #https://matplotlib.org/stable/api/_as_gen/matplotlib.axes.Axes.set_ylim.html\n",
    "    ax.legend() #show the legend\n",
    "    #https://matplotlib.org/stable/api/_as_gen/matplotlib.axes.Axes.legend.html\n",
    "    \n",
    "    def update(frame): #update function!\n",
    "\n",
    "        electron_update(charges, electron) #call the update function to set the values\n",
    "        scatter.set_offsets(electron.get_position()) #update the position of the electron\n",
    "        #https://matplotlib.org/stable/api/collections_api.html#matplotlib.collections.AsteriskPolygonCollection.set_offsets\n",
    "        return scatter #return the new scatter plot\n",
    "\n",
    "    electron.get_force(charges) #not have starting acceleration 0\n",
    "    anim = animation.FuncAnimation(fig=fig, func=update, frames=gen(charges, electron), interval=10, save_count=1000) #create the animation\n",
    "    #https://matplotlib.org/stable/api/_as_gen/matplotlib.animation.FuncAnimation.html\n",
    "    plt.close() #close the plot\n",
    "\n",
    "    return HTML(anim.to_jshtml()) #return the HTML to make the animation\n",
    "    #https://matplotlib.org/stable/api/_as_gen/matplotlib.animation.Animation.html#matplotlib.animation.Animation.to_jshtml"
   ]
  },
  {
   "cell_type": "markdown",
   "id": "0b7123d7-a319-4086-b354-eaeb60e00cb8",
   "metadata": {},
   "source": [
    "<p>This section is the meat of the program, as it is where the animation is actually being created.</p>"
   ]
  },
  {
   "cell_type": "markdown",
   "id": "02ab076f-2dc0-48d4-b394-a66430afaf45",
   "metadata": {},
   "source": [
    "<h4>Level 1</h4>"
   ]
  },
  {
   "cell_type": "markdown",
   "id": "5b933131-7e28-444d-bc1e-faec79faf24e",
   "metadata": {},
   "source": [
    "<h4>Level 2</h4>"
   ]
  },
  {
   "cell_type": "markdown",
   "id": "9732d316-58b7-4678-989a-353bfcc519a2",
   "metadata": {},
   "source": [
    "<h4>Level 3</h4>"
   ]
  },
  {
   "cell_type": "code",
   "execution_count": 8,
   "id": "6fa6730a-d5fa-4d81-97d0-6d1462ffe97d",
   "metadata": {},
   "outputs": [
    {
     "name": "stdout",
     "output_type": "stream",
     "text": [
      "This program will create a 2d simulation with point charges fixed in place and an unsecured electron.\n",
      "The dimensions are (-100, 100) by (-100, 100).\n",
      "\n",
      "First, create your Charges.\n"
     ]
    },
    {
     "name": "stdin",
     "output_type": "stream",
     "text": [
      "Number of Charges (int):  0\n"
     ]
    },
    {
     "name": "stdout",
     "output_type": "stream",
     "text": [
      "Second, locate your Electron.\n"
     ]
    },
    {
     "name": "stdin",
     "output_type": "stream",
     "text": [
      "Enter x coordinate (float):  0\n",
      "Enter y coordinate (float):  0\n"
     ]
    },
    {
     "name": "stdout",
     "output_type": "stream",
     "text": [
      "no velocity/acceleration\n",
      "[0. 0.] [0. 0.]\n"
     ]
    },
    {
     "name": "stderr",
     "output_type": "stream",
     "text": [
      "C:\\Users\\dbart\\AppData\\Local\\Packages\\PythonSoftwareFoundation.Python.3.11_qbz5n2kfra8p0\\LocalCache\\local-packages\\Python311\\site-packages\\matplotlib\\animation.py:1741: UserWarning: Can not start iterating the frames for the initial draw. This can be caused by passing in a 0 length sequence for *frames*.\n",
      "\n",
      "If you passed *frames* as a generator it may be exhausted due to a previous display or save.\n",
      "  warnings.warn(\n"
     ]
    },
    {
     "data": {
      "text/html": [
       "\n",
       "<link rel=\"stylesheet\"\n",
       "href=\"https://maxcdn.bootstrapcdn.com/font-awesome/4.4.0/css/font-awesome.min.css\">\n",
       "<script language=\"javascript\">\n",
       "  function isInternetExplorer() {\n",
       "    ua = navigator.userAgent;\n",
       "    /* MSIE used to detect old browsers and Trident used to newer ones*/\n",
       "    return ua.indexOf(\"MSIE \") > -1 || ua.indexOf(\"Trident/\") > -1;\n",
       "  }\n",
       "\n",
       "  /* Define the Animation class */\n",
       "  function Animation(frames, img_id, slider_id, interval, loop_select_id){\n",
       "    this.img_id = img_id;\n",
       "    this.slider_id = slider_id;\n",
       "    this.loop_select_id = loop_select_id;\n",
       "    this.interval = interval;\n",
       "    this.current_frame = 0;\n",
       "    this.direction = 0;\n",
       "    this.timer = null;\n",
       "    this.frames = new Array(frames.length);\n",
       "\n",
       "    for (var i=0; i<frames.length; i++)\n",
       "    {\n",
       "     this.frames[i] = new Image();\n",
       "     this.frames[i].src = frames[i];\n",
       "    }\n",
       "    var slider = document.getElementById(this.slider_id);\n",
       "    slider.max = this.frames.length - 1;\n",
       "    if (isInternetExplorer()) {\n",
       "        // switch from oninput to onchange because IE <= 11 does not conform\n",
       "        // with W3C specification. It ignores oninput and onchange behaves\n",
       "        // like oninput. In contrast, Microsoft Edge behaves correctly.\n",
       "        slider.setAttribute('onchange', slider.getAttribute('oninput'));\n",
       "        slider.setAttribute('oninput', null);\n",
       "    }\n",
       "    this.set_frame(this.current_frame);\n",
       "  }\n",
       "\n",
       "  Animation.prototype.get_loop_state = function(){\n",
       "    var button_group = document[this.loop_select_id].state;\n",
       "    for (var i = 0; i < button_group.length; i++) {\n",
       "        var button = button_group[i];\n",
       "        if (button.checked) {\n",
       "            return button.value;\n",
       "        }\n",
       "    }\n",
       "    return undefined;\n",
       "  }\n",
       "\n",
       "  Animation.prototype.set_frame = function(frame){\n",
       "    this.current_frame = frame;\n",
       "    document.getElementById(this.img_id).src =\n",
       "            this.frames[this.current_frame].src;\n",
       "    document.getElementById(this.slider_id).value = this.current_frame;\n",
       "  }\n",
       "\n",
       "  Animation.prototype.next_frame = function()\n",
       "  {\n",
       "    this.set_frame(Math.min(this.frames.length - 1, this.current_frame + 1));\n",
       "  }\n",
       "\n",
       "  Animation.prototype.previous_frame = function()\n",
       "  {\n",
       "    this.set_frame(Math.max(0, this.current_frame - 1));\n",
       "  }\n",
       "\n",
       "  Animation.prototype.first_frame = function()\n",
       "  {\n",
       "    this.set_frame(0);\n",
       "  }\n",
       "\n",
       "  Animation.prototype.last_frame = function()\n",
       "  {\n",
       "    this.set_frame(this.frames.length - 1);\n",
       "  }\n",
       "\n",
       "  Animation.prototype.slower = function()\n",
       "  {\n",
       "    this.interval /= 0.7;\n",
       "    if(this.direction > 0){this.play_animation();}\n",
       "    else if(this.direction < 0){this.reverse_animation();}\n",
       "  }\n",
       "\n",
       "  Animation.prototype.faster = function()\n",
       "  {\n",
       "    this.interval *= 0.7;\n",
       "    if(this.direction > 0){this.play_animation();}\n",
       "    else if(this.direction < 0){this.reverse_animation();}\n",
       "  }\n",
       "\n",
       "  Animation.prototype.anim_step_forward = function()\n",
       "  {\n",
       "    this.current_frame += 1;\n",
       "    if(this.current_frame < this.frames.length){\n",
       "      this.set_frame(this.current_frame);\n",
       "    }else{\n",
       "      var loop_state = this.get_loop_state();\n",
       "      if(loop_state == \"loop\"){\n",
       "        this.first_frame();\n",
       "      }else if(loop_state == \"reflect\"){\n",
       "        this.last_frame();\n",
       "        this.reverse_animation();\n",
       "      }else{\n",
       "        this.pause_animation();\n",
       "        this.last_frame();\n",
       "      }\n",
       "    }\n",
       "  }\n",
       "\n",
       "  Animation.prototype.anim_step_reverse = function()\n",
       "  {\n",
       "    this.current_frame -= 1;\n",
       "    if(this.current_frame >= 0){\n",
       "      this.set_frame(this.current_frame);\n",
       "    }else{\n",
       "      var loop_state = this.get_loop_state();\n",
       "      if(loop_state == \"loop\"){\n",
       "        this.last_frame();\n",
       "      }else if(loop_state == \"reflect\"){\n",
       "        this.first_frame();\n",
       "        this.play_animation();\n",
       "      }else{\n",
       "        this.pause_animation();\n",
       "        this.first_frame();\n",
       "      }\n",
       "    }\n",
       "  }\n",
       "\n",
       "  Animation.prototype.pause_animation = function()\n",
       "  {\n",
       "    this.direction = 0;\n",
       "    if (this.timer){\n",
       "      clearInterval(this.timer);\n",
       "      this.timer = null;\n",
       "    }\n",
       "  }\n",
       "\n",
       "  Animation.prototype.play_animation = function()\n",
       "  {\n",
       "    this.pause_animation();\n",
       "    this.direction = 1;\n",
       "    var t = this;\n",
       "    if (!this.timer) this.timer = setInterval(function() {\n",
       "        t.anim_step_forward();\n",
       "    }, this.interval);\n",
       "  }\n",
       "\n",
       "  Animation.prototype.reverse_animation = function()\n",
       "  {\n",
       "    this.pause_animation();\n",
       "    this.direction = -1;\n",
       "    var t = this;\n",
       "    if (!this.timer) this.timer = setInterval(function() {\n",
       "        t.anim_step_reverse();\n",
       "    }, this.interval);\n",
       "  }\n",
       "</script>\n",
       "\n",
       "<style>\n",
       ".animation {\n",
       "    display: inline-block;\n",
       "    text-align: center;\n",
       "}\n",
       "input[type=range].anim-slider {\n",
       "    width: 374px;\n",
       "    margin-left: auto;\n",
       "    margin-right: auto;\n",
       "}\n",
       ".anim-buttons {\n",
       "    margin: 8px 0px;\n",
       "}\n",
       ".anim-buttons button {\n",
       "    padding: 0;\n",
       "    width: 36px;\n",
       "}\n",
       ".anim-state label {\n",
       "    margin-right: 8px;\n",
       "}\n",
       ".anim-state input {\n",
       "    margin: 0;\n",
       "    vertical-align: middle;\n",
       "}\n",
       "</style>\n",
       "\n",
       "<div class=\"animation\">\n",
       "  <img id=\"_anim_img0479f00186eb462ba98784ae4fcbc6b6\">\n",
       "  <div class=\"anim-controls\">\n",
       "    <input id=\"_anim_slider0479f00186eb462ba98784ae4fcbc6b6\" type=\"range\" class=\"anim-slider\"\n",
       "           name=\"points\" min=\"0\" max=\"1\" step=\"1\" value=\"0\"\n",
       "           oninput=\"anim0479f00186eb462ba98784ae4fcbc6b6.set_frame(parseInt(this.value));\">\n",
       "    <div class=\"anim-buttons\">\n",
       "      <button title=\"Decrease speed\" aria-label=\"Decrease speed\" onclick=\"anim0479f00186eb462ba98784ae4fcbc6b6.slower()\">\n",
       "          <i class=\"fa fa-minus\"></i></button>\n",
       "      <button title=\"First frame\" aria-label=\"First frame\" onclick=\"anim0479f00186eb462ba98784ae4fcbc6b6.first_frame()\">\n",
       "        <i class=\"fa fa-fast-backward\"></i></button>\n",
       "      <button title=\"Previous frame\" aria-label=\"Previous frame\" onclick=\"anim0479f00186eb462ba98784ae4fcbc6b6.previous_frame()\">\n",
       "          <i class=\"fa fa-step-backward\"></i></button>\n",
       "      <button title=\"Play backwards\" aria-label=\"Play backwards\" onclick=\"anim0479f00186eb462ba98784ae4fcbc6b6.reverse_animation()\">\n",
       "          <i class=\"fa fa-play fa-flip-horizontal\"></i></button>\n",
       "      <button title=\"Pause\" aria-label=\"Pause\" onclick=\"anim0479f00186eb462ba98784ae4fcbc6b6.pause_animation()\">\n",
       "          <i class=\"fa fa-pause\"></i></button>\n",
       "      <button title=\"Play\" aria-label=\"Play\" onclick=\"anim0479f00186eb462ba98784ae4fcbc6b6.play_animation()\">\n",
       "          <i class=\"fa fa-play\"></i></button>\n",
       "      <button title=\"Next frame\" aria-label=\"Next frame\" onclick=\"anim0479f00186eb462ba98784ae4fcbc6b6.next_frame()\">\n",
       "          <i class=\"fa fa-step-forward\"></i></button>\n",
       "      <button title=\"Last frame\" aria-label=\"Last frame\" onclick=\"anim0479f00186eb462ba98784ae4fcbc6b6.last_frame()\">\n",
       "          <i class=\"fa fa-fast-forward\"></i></button>\n",
       "      <button title=\"Increase speed\" aria-label=\"Increase speed\" onclick=\"anim0479f00186eb462ba98784ae4fcbc6b6.faster()\">\n",
       "          <i class=\"fa fa-plus\"></i></button>\n",
       "    </div>\n",
       "    <form title=\"Repetition mode\" aria-label=\"Repetition mode\" action=\"#n\" name=\"_anim_loop_select0479f00186eb462ba98784ae4fcbc6b6\"\n",
       "          class=\"anim-state\">\n",
       "      <input type=\"radio\" name=\"state\" value=\"once\" id=\"_anim_radio1_0479f00186eb462ba98784ae4fcbc6b6\"\n",
       "             >\n",
       "      <label for=\"_anim_radio1_0479f00186eb462ba98784ae4fcbc6b6\">Once</label>\n",
       "      <input type=\"radio\" name=\"state\" value=\"loop\" id=\"_anim_radio2_0479f00186eb462ba98784ae4fcbc6b6\"\n",
       "             checked>\n",
       "      <label for=\"_anim_radio2_0479f00186eb462ba98784ae4fcbc6b6\">Loop</label>\n",
       "      <input type=\"radio\" name=\"state\" value=\"reflect\" id=\"_anim_radio3_0479f00186eb462ba98784ae4fcbc6b6\"\n",
       "             >\n",
       "      <label for=\"_anim_radio3_0479f00186eb462ba98784ae4fcbc6b6\">Reflect</label>\n",
       "    </form>\n",
       "  </div>\n",
       "</div>\n",
       "\n",
       "\n",
       "<script language=\"javascript\">\n",
       "  /* Instantiate the Animation class. */\n",
       "  /* The IDs given should match those used in the template above. */\n",
       "  (function() {\n",
       "    var img_id = \"_anim_img0479f00186eb462ba98784ae4fcbc6b6\";\n",
       "    var slider_id = \"_anim_slider0479f00186eb462ba98784ae4fcbc6b6\";\n",
       "    var loop_select_id = \"_anim_loop_select0479f00186eb462ba98784ae4fcbc6b6\";\n",
       "    var frames = new Array(0);\n",
       "    \n",
       "\n",
       "\n",
       "    /* set a timeout to make sure all the above elements are created before\n",
       "       the object is initialized. */\n",
       "    setTimeout(function() {\n",
       "        anim0479f00186eb462ba98784ae4fcbc6b6 = new Animation(frames, img_id, slider_id, 10.0,\n",
       "                                 loop_select_id);\n",
       "    }, 0);\n",
       "  })()\n",
       "</script>\n"
      ],
      "text/plain": [
       "<IPython.core.display.HTML object>"
      ]
     },
     "execution_count": 8,
     "metadata": {},
     "output_type": "execute_result"
    }
   ],
   "source": [
    "print(\"This program will create a 2d simulation with point charges fixed in place and an unsecured electron.\")\n",
    "print(\"The dimensions are (-100, 100) by (-100, 100).\")\n",
    "print()\n",
    "print(\"First, create your Charges.\")\n",
    "q = int(input(\"Number of Charges (int): \"))\n",
    "charges = []\n",
    "for i in range(q):\n",
    "    x = float(input(\"Enter x coordinate (float): \"))\n",
    "    y = float(input(\"Enter y coordinate (float): \"))\n",
    "    c = float(input(\"Enter charge (float): \"))\n",
    "    charges.append(Charge(x, y, c * e))\n",
    "print(\"Second, locate your Electron.\")\n",
    "x = float(input(\"Enter x coordinate (float): \"))\n",
    "y = float(input(\"Enter y coordinate (float): \"))\n",
    "electron = Electron(x, y)\n",
    "create_animation(charges, electron)"
   ]
  },
  {
   "cell_type": "markdown",
   "id": "9bcfe99d-7126-478c-840b-4633dc639309",
   "metadata": {},
   "source": [
    "<p>Where the program is actually running.</p>"
   ]
  },
  {
   "cell_type": "markdown",
   "id": "1ddf13ef-51ac-441b-8950-88e4c507d7e1",
   "metadata": {},
   "source": [
    "<h4>Level 1</h4>"
   ]
  },
  {
   "cell_type": "markdown",
   "id": "9ae442be-115d-4f63-9c8e-1344e848ed95",
   "metadata": {},
   "source": [
    "<h4>Level 2</h4>"
   ]
  },
  {
   "cell_type": "markdown",
   "id": "4cd57dd5-2625-48db-99aa-b5cab9930bf1",
   "metadata": {},
   "source": [
    "<h4>Level 3</h4>"
   ]
  },
  {
   "cell_type": "code",
   "execution_count": null,
   "id": "bb782e5e-12aa-4af6-ac3b-241dd4a24c7d",
   "metadata": {},
   "outputs": [],
   "source": []
  }
 ],
 "metadata": {
  "kernelspec": {
   "display_name": "Python 3 (ipykernel)",
   "language": "python",
   "name": "python3"
  },
  "language_info": {
   "codemirror_mode": {
    "name": "ipython",
    "version": 3
   },
   "file_extension": ".py",
   "mimetype": "text/x-python",
   "name": "python",
   "nbconvert_exporter": "python",
   "pygments_lexer": "ipython3",
   "version": "3.11.9"
  }
 },
 "nbformat": 4,
 "nbformat_minor": 5
}
