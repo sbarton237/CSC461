{
 "cells": [
  {
   "cell_type": "code",
   "execution_count": 1,
   "id": "d389cd2b-0d8a-429a-af30-2153bfa52be4",
   "metadata": {},
   "outputs": [],
   "source": [
    "import math #basic python math library, used for square rooting and getting pi\n",
    "import numpy as np #common library, source of numpy arrays which are easier to manipulate as vectors than your average python list\n",
    "\n",
    "from scipy.constants import e, m_e, epsilon_0 \n",
    "#physics constants I need, the charge of a proton or electron (e), the mass of an electron (m_e), and epsilon naught\n",
    "\n",
    "import matplotlib.pyplot as plt #for plotting data\n",
    "import mpl_toolkits.mplot3d.axes3d as p3 #allowing for 3d axis instead of 2d\n",
    "import matplotlib.animation as animation #to create animation\n",
    "from IPython.display import HTML #making it possible to display my animation"
   ]
  },
  {
   "cell_type": "code",
   "execution_count": 2,
   "id": "d0a64429-6346-47ba-aa90-c2d80bc43685",
   "metadata": {},
   "outputs": [],
   "source": [
    "class Charge: #class to create Charge objects, which will make it easier to work with charges\n",
    "\n",
    "    def __init__(self, x, y, z, charge): #initiation function, magic method\n",
    "        self.position = np.array([float(x), float(y), float(z)]) #creating the position, using the given x, y, and z coordinates, as an array\n",
    "        self.charge = charge #getting the charge of the particle\n",
    "\n",
    "    def get_position(self): #function to get the position of a charge\n",
    "        return self.position #return the position\n",
    "\n",
    "    def get_charge(self): #function to get the charge of a charge\n",
    "        return self.charge #return the charge"
   ]
  },
  {
   "cell_type": "code",
   "execution_count": 8,
   "id": "a9ec674c-6f92-41b0-b1ef-dfc62bc3c887",
   "metadata": {},
   "outputs": [],
   "source": [
    "class Electron: #class to create Electron objects, which will allow me to make functions for electrons\n",
    "\n",
    "    def __init__(self, x, y, z): #initiation function, magic method\n",
    "        self.position = np.array([float(x), float(y), float(z)]) #creating the position, using the given x, y, and z coordinates, as an array\n",
    "        self.charge = -e #all electrons have a charge of -e\n",
    "        self.velocity = np.array([0.0, 0.0, 0.0]) #start with 0 velocity\n",
    "        self.acceleration = np.array([0.0, 0.0, 0.0]) #start with 0 acceleration\n",
    "\n",
    "    def get_position(self): #function to get the position of an electrno\n",
    "        return self.position #return the position\n",
    "\n",
    "    def get_force(self, charges): #function to get the sum of all the forces on an electron\n",
    "        force = np.array([0.0, 0.0, 0.0]) #start with 0\n",
    "        for charge in charges: #then go through each charge\n",
    "            r = math.sqrt((charge.get_position() - self.get_position())[0] ** 2 + (charge.get_position() - self.get_position())[1] ** 2)\n",
    "            #get the distance from electron to charge\n",
    "            force += (self.get_position() - charge.get_position()) * charge.get_charge() * self.charge / 4 / math.pi / epsilon_0 / (r ** 3)\n",
    "            #use Coloumb's Law to find the force a single charge places on the electron and add it to the current force\n",
    "        self.acceleration = force / m_e #Newton's second law, f=ma, so a=f/m\n",
    "   \n",
    "    def get_acceleration(self): #return the acceleration\n",
    "        return self.acceleration #return acceleration\n",
    "\n",
    "    def get_velocity(self):\n",
    "        return self.velocity\n",
    "\n",
    "    def update_velocity(self): #changing velocity\n",
    "        self.velocity += self.acceleration #small increments, velocity changes by acceleration\n",
    "\n",
    "    def update_position(self): #changing position\n",
    "        self.position += self.velocity #small increments, position changes by velocity"
   ]
  },
  {
   "cell_type": "code",
   "execution_count": 4,
   "id": "3cfc7154-78c9-4062-85c9-e95044d3510e",
   "metadata": {},
   "outputs": [],
   "source": [
    "def electron_update(charges, electron): #function to update the state of the electron\n",
    "\n",
    "    electron.get_force(charges) #getting the current force\n",
    "    electron.update_velocity() #updating velocity\n",
    "    electron.update_position() #updating position"
   ]
  },
  {
   "cell_type": "code",
   "execution_count": 5,
   "id": "dd2f5008-f686-45e1-b254-72d77e0cb9fb",
   "metadata": {},
   "outputs": [],
   "source": [
    "i = 1 #start with one frame\n",
    "\n",
    "def gen(charges, electron): #making a generator function!\n",
    "    global i #letting us access i, prevents it from resetting\n",
    "    sep = True #boolean to determine if you should continue\n",
    "    while sep:\n",
    "        print(i)\n",
    "        for charge in charges: #look at each charge\n",
    "            if abs(electron.get_position()[0] - charge.get_position()[0]) < 4 and abs(electron.get_position()[1] - charge.get_position()[1]) < 4 and abs(electron.get_position()[2] - charge.get_position()[2]) < 4:\n",
    "            #if the electron is practically on the charge\n",
    "                sep = False #don't continue\n",
    "                print(\"on charge\") #let us know we are on a charge\n",
    "                print(charge.get_position(), electron.get_position()) #print both locations\n",
    "                print(abs(electron.get_position()[0] - charge.get_position()[0]), abs(electron.get_position()[1] - charge.get_position()[1]), abs(electron.get_position()[2] - charge.get_position()[2])) #print distance\n",
    "                break #exit this loop\n",
    "        if abs(electron.get_position()[0]) > 100 or abs(electron.get_position()[1]) > 100 or abs(electron.get_position()[2]) > 100: #if it's outside of the boundaries of the simulation\n",
    "            print(\"left boundaries\")\n",
    "            sep = False #don't continue\n",
    "        if np.array_equal(electron.get_velocity(), [0.0,0.0,0.0]) and np.array_equal(electron.get_acceleration(), [0.0, 0.0,0.0]): #if the velocity + acceleration is 0\n",
    "            print(\"no velocity/acceleration\") #let us know that the velocity/acceleration is 0\n",
    "            print(electron.get_velocity(), electron.get_acceleration()) #prove it\n",
    "            sep = False #don't continue\n",
    "        if sep == True: #if we still should continue\n",
    "            i += 1 #up the frame number\n",
    "            #print(i)\n",
    "            yield i #iteration version of return"
   ]
  },
  {
   "cell_type": "code",
   "execution_count": 51,
   "id": "b42c3688-c246-428b-8320-ad8528b2aeee",
   "metadata": {},
   "outputs": [],
   "source": [
    "def create_animation(charges, electron): #creating the animation\n",
    "\n",
    "    fig = plt.figure() #have a figure\n",
    "    ax = fig.add_subplot(111, projection='3d')\n",
    "    #print(\"h1\")\n",
    "\n",
    "    for c in charges:\n",
    "        if c.get_charge() > 0:\n",
    "            scatter = ax.scatter(c.get_position()[0], c.get_position()[1], c.get_position()[2], c=\"r\", label=\"+ charges\")\n",
    "        else:\n",
    "            scatter = ax.scatter(c.get_position()[0], c.get_position()[1], c.get_position()[2], c=\"b\", label=\"- charges\")\n",
    "    scatter = ax.scatter(electron.get_position()[0], electron.get_position()[1], electron.get_position()[2], c=\"g\", label=\"electron\")\n",
    "    #place the electron on the plot, coloring it green\n",
    "    #print(\"h2\")\n",
    "    ax.legend() #show the legend\n",
    "    #print(\"h3\")\n",
    "    def update(frame): #update function!\n",
    "\n",
    "        electron_update(charges, electron) #call the update function to set the values\n",
    "        print(electron.get_position())\n",
    "        print(type(electron.get_position()))\n",
    "        scatter._offsets3d = electron.get_position() #update the position of the electron\n",
    "        print(\"hey\")\n",
    "        return scatter #return the new scatter plot\n",
    "\n",
    "    electron.get_force(charges) #not have starting acceleration 0\n",
    "    anim = animation.FuncAnimation(fig=fig, func=update, frames=gen(charges, electron), blit=False, interval=10, save_count=1000) #create the animation\n",
    "    plt.close() #close the plot\n",
    "    print(\"hi\")\n",
    "    return HTML(anim.to_jshtml()) #return the HTML to make the animation"
   ]
  },
  {
   "cell_type": "code",
   "execution_count": 53,
   "id": "b5e9bb73-62c4-4021-bf10-5b08caefc6eb",
   "metadata": {},
   "outputs": [
    {
     "name": "stdout",
     "output_type": "stream",
     "text": [
      "hi\n",
      "35\n",
      "[ 4.66315176  9.32630352 13.98945529]\n",
      "<class 'numpy.ndarray'>\n",
      "hey\n",
      "[ 8.63816388 17.27632777 25.91449165]\n",
      "<class 'numpy.ndarray'>\n",
      "hey\n"
     ]
    },
    {
     "ename": "IndexError",
     "evalue": "invalid index to scalar variable.",
     "output_type": "error",
     "traceback": [
      "\u001b[1;31m---------------------------------------------------------------------------\u001b[0m",
      "\u001b[1;31mIndexError\u001b[0m                                Traceback (most recent call last)",
      "Cell \u001b[1;32mIn[53], line 4\u001b[0m\n\u001b[0;32m      2\u001b[0m charges \u001b[38;5;241m=\u001b[39m [c1]\n\u001b[0;32m      3\u001b[0m electron \u001b[38;5;241m=\u001b[39m Electron(\u001b[38;5;241m-\u001b[39m\u001b[38;5;241m1\u001b[39m, \u001b[38;5;241m-\u001b[39m\u001b[38;5;241m2\u001b[39m, \u001b[38;5;241m-\u001b[39m\u001b[38;5;241m3\u001b[39m)\n\u001b[1;32m----> 4\u001b[0m \u001b[43mcreate_animation\u001b[49m\u001b[43m(\u001b[49m\u001b[43mcharges\u001b[49m\u001b[43m,\u001b[49m\u001b[43m \u001b[49m\u001b[43melectron\u001b[49m\u001b[43m)\u001b[49m\n",
      "Cell \u001b[1;32mIn[51], line 30\u001b[0m, in \u001b[0;36mcreate_animation\u001b[1;34m(charges, electron)\u001b[0m\n\u001b[0;32m     28\u001b[0m plt\u001b[38;5;241m.\u001b[39mclose() \u001b[38;5;66;03m#close the plot\u001b[39;00m\n\u001b[0;32m     29\u001b[0m \u001b[38;5;28mprint\u001b[39m(\u001b[38;5;124m\"\u001b[39m\u001b[38;5;124mhi\u001b[39m\u001b[38;5;124m\"\u001b[39m)\n\u001b[1;32m---> 30\u001b[0m \u001b[38;5;28;01mreturn\u001b[39;00m HTML(\u001b[43manim\u001b[49m\u001b[38;5;241;43m.\u001b[39;49m\u001b[43mto_jshtml\u001b[49m\u001b[43m(\u001b[49m\u001b[43m)\u001b[49m)\n",
      "File \u001b[1;32m~\\AppData\\Local\\Packages\\PythonSoftwareFoundation.Python.3.11_qbz5n2kfra8p0\\LocalCache\\local-packages\\Python311\\site-packages\\matplotlib\\animation.py:1353\u001b[0m, in \u001b[0;36mAnimation.to_jshtml\u001b[1;34m(self, fps, embed_frames, default_mode)\u001b[0m\n\u001b[0;32m   1349\u001b[0m         path \u001b[38;5;241m=\u001b[39m Path(tmpdir, \u001b[38;5;124m\"\u001b[39m\u001b[38;5;124mtemp.html\u001b[39m\u001b[38;5;124m\"\u001b[39m)\n\u001b[0;32m   1350\u001b[0m         writer \u001b[38;5;241m=\u001b[39m HTMLWriter(fps\u001b[38;5;241m=\u001b[39mfps,\n\u001b[0;32m   1351\u001b[0m                             embed_frames\u001b[38;5;241m=\u001b[39membed_frames,\n\u001b[0;32m   1352\u001b[0m                             default_mode\u001b[38;5;241m=\u001b[39mdefault_mode)\n\u001b[1;32m-> 1353\u001b[0m         \u001b[38;5;28;43mself\u001b[39;49m\u001b[38;5;241;43m.\u001b[39;49m\u001b[43msave\u001b[49m\u001b[43m(\u001b[49m\u001b[38;5;28;43mstr\u001b[39;49m\u001b[43m(\u001b[49m\u001b[43mpath\u001b[49m\u001b[43m)\u001b[49m\u001b[43m,\u001b[49m\u001b[43m \u001b[49m\u001b[43mwriter\u001b[49m\u001b[38;5;241;43m=\u001b[39;49m\u001b[43mwriter\u001b[49m\u001b[43m)\u001b[49m\n\u001b[0;32m   1354\u001b[0m         \u001b[38;5;28mself\u001b[39m\u001b[38;5;241m.\u001b[39m_html_representation \u001b[38;5;241m=\u001b[39m path\u001b[38;5;241m.\u001b[39mread_text()\n\u001b[0;32m   1356\u001b[0m \u001b[38;5;28;01mreturn\u001b[39;00m \u001b[38;5;28mself\u001b[39m\u001b[38;5;241m.\u001b[39m_html_representation\n",
      "File \u001b[1;32m~\\AppData\\Local\\Packages\\PythonSoftwareFoundation.Python.3.11_qbz5n2kfra8p0\\LocalCache\\local-packages\\Python311\\site-packages\\matplotlib\\animation.py:1105\u001b[0m, in \u001b[0;36mAnimation.save\u001b[1;34m(self, filename, writer, fps, dpi, codec, bitrate, extra_args, metadata, extra_anim, savefig_kwargs, progress_callback)\u001b[0m\n\u001b[0;32m   1102\u001b[0m \u001b[38;5;28;01mfor\u001b[39;00m data \u001b[38;5;129;01min\u001b[39;00m \u001b[38;5;28mzip\u001b[39m(\u001b[38;5;241m*\u001b[39m[a\u001b[38;5;241m.\u001b[39mnew_saved_frame_seq() \u001b[38;5;28;01mfor\u001b[39;00m a \u001b[38;5;129;01min\u001b[39;00m all_anim]):\n\u001b[0;32m   1103\u001b[0m     \u001b[38;5;28;01mfor\u001b[39;00m anim, d \u001b[38;5;129;01min\u001b[39;00m \u001b[38;5;28mzip\u001b[39m(all_anim, data):\n\u001b[0;32m   1104\u001b[0m         \u001b[38;5;66;03m# TODO: See if turning off blit is really necessary\u001b[39;00m\n\u001b[1;32m-> 1105\u001b[0m         \u001b[43manim\u001b[49m\u001b[38;5;241;43m.\u001b[39;49m\u001b[43m_draw_next_frame\u001b[49m\u001b[43m(\u001b[49m\u001b[43md\u001b[49m\u001b[43m,\u001b[49m\u001b[43m \u001b[49m\u001b[43mblit\u001b[49m\u001b[38;5;241;43m=\u001b[39;49m\u001b[38;5;28;43;01mFalse\u001b[39;49;00m\u001b[43m)\u001b[49m\n\u001b[0;32m   1106\u001b[0m         \u001b[38;5;28;01mif\u001b[39;00m progress_callback \u001b[38;5;129;01mis\u001b[39;00m \u001b[38;5;129;01mnot\u001b[39;00m \u001b[38;5;28;01mNone\u001b[39;00m:\n\u001b[0;32m   1107\u001b[0m             progress_callback(frame_number, total_frames)\n",
      "File \u001b[1;32m~\\AppData\\Local\\Packages\\PythonSoftwareFoundation.Python.3.11_qbz5n2kfra8p0\\LocalCache\\local-packages\\Python311\\site-packages\\matplotlib\\animation.py:1141\u001b[0m, in \u001b[0;36mAnimation._draw_next_frame\u001b[1;34m(self, framedata, blit)\u001b[0m\n\u001b[0;32m   1139\u001b[0m \u001b[38;5;28mself\u001b[39m\u001b[38;5;241m.\u001b[39m_pre_draw(framedata, blit)\n\u001b[0;32m   1140\u001b[0m \u001b[38;5;28mself\u001b[39m\u001b[38;5;241m.\u001b[39m_draw_frame(framedata)\n\u001b[1;32m-> 1141\u001b[0m \u001b[38;5;28;43mself\u001b[39;49m\u001b[38;5;241;43m.\u001b[39;49m\u001b[43m_post_draw\u001b[49m\u001b[43m(\u001b[49m\u001b[43mframedata\u001b[49m\u001b[43m,\u001b[49m\u001b[43m \u001b[49m\u001b[43mblit\u001b[49m\u001b[43m)\u001b[49m\n",
      "File \u001b[1;32m~\\AppData\\Local\\Packages\\PythonSoftwareFoundation.Python.3.11_qbz5n2kfra8p0\\LocalCache\\local-packages\\Python311\\site-packages\\matplotlib\\animation.py:1166\u001b[0m, in \u001b[0;36mAnimation._post_draw\u001b[1;34m(self, framedata, blit)\u001b[0m\n\u001b[0;32m   1164\u001b[0m     \u001b[38;5;28mself\u001b[39m\u001b[38;5;241m.\u001b[39m_blit_draw(\u001b[38;5;28mself\u001b[39m\u001b[38;5;241m.\u001b[39m_drawn_artists)\n\u001b[0;32m   1165\u001b[0m \u001b[38;5;28;01melse\u001b[39;00m:\n\u001b[1;32m-> 1166\u001b[0m     \u001b[38;5;28;43mself\u001b[39;49m\u001b[38;5;241;43m.\u001b[39;49m\u001b[43m_fig\u001b[49m\u001b[38;5;241;43m.\u001b[39;49m\u001b[43mcanvas\u001b[49m\u001b[38;5;241;43m.\u001b[39;49m\u001b[43mdraw_idle\u001b[49m\u001b[43m(\u001b[49m\u001b[43m)\u001b[49m\n",
      "File \u001b[1;32m~\\AppData\\Local\\Packages\\PythonSoftwareFoundation.Python.3.11_qbz5n2kfra8p0\\LocalCache\\local-packages\\Python311\\site-packages\\matplotlib\\backend_bases.py:1893\u001b[0m, in \u001b[0;36mFigureCanvasBase.draw_idle\u001b[1;34m(self, *args, **kwargs)\u001b[0m\n\u001b[0;32m   1891\u001b[0m \u001b[38;5;28;01mif\u001b[39;00m \u001b[38;5;129;01mnot\u001b[39;00m \u001b[38;5;28mself\u001b[39m\u001b[38;5;241m.\u001b[39m_is_idle_drawing:\n\u001b[0;32m   1892\u001b[0m     \u001b[38;5;28;01mwith\u001b[39;00m \u001b[38;5;28mself\u001b[39m\u001b[38;5;241m.\u001b[39m_idle_draw_cntx():\n\u001b[1;32m-> 1893\u001b[0m         \u001b[38;5;28;43mself\u001b[39;49m\u001b[38;5;241;43m.\u001b[39;49m\u001b[43mdraw\u001b[49m\u001b[43m(\u001b[49m\u001b[38;5;241;43m*\u001b[39;49m\u001b[43margs\u001b[49m\u001b[43m,\u001b[49m\u001b[43m \u001b[49m\u001b[38;5;241;43m*\u001b[39;49m\u001b[38;5;241;43m*\u001b[39;49m\u001b[43mkwargs\u001b[49m\u001b[43m)\u001b[49m\n",
      "File \u001b[1;32m~\\AppData\\Local\\Packages\\PythonSoftwareFoundation.Python.3.11_qbz5n2kfra8p0\\LocalCache\\local-packages\\Python311\\site-packages\\matplotlib\\backends\\backend_agg.py:388\u001b[0m, in \u001b[0;36mFigureCanvasAgg.draw\u001b[1;34m(self)\u001b[0m\n\u001b[0;32m    385\u001b[0m \u001b[38;5;66;03m# Acquire a lock on the shared font cache.\u001b[39;00m\n\u001b[0;32m    386\u001b[0m \u001b[38;5;28;01mwith\u001b[39;00m (\u001b[38;5;28mself\u001b[39m\u001b[38;5;241m.\u001b[39mtoolbar\u001b[38;5;241m.\u001b[39m_wait_cursor_for_draw_cm() \u001b[38;5;28;01mif\u001b[39;00m \u001b[38;5;28mself\u001b[39m\u001b[38;5;241m.\u001b[39mtoolbar\n\u001b[0;32m    387\u001b[0m       \u001b[38;5;28;01melse\u001b[39;00m nullcontext()):\n\u001b[1;32m--> 388\u001b[0m     \u001b[38;5;28;43mself\u001b[39;49m\u001b[38;5;241;43m.\u001b[39;49m\u001b[43mfigure\u001b[49m\u001b[38;5;241;43m.\u001b[39;49m\u001b[43mdraw\u001b[49m\u001b[43m(\u001b[49m\u001b[38;5;28;43mself\u001b[39;49m\u001b[38;5;241;43m.\u001b[39;49m\u001b[43mrenderer\u001b[49m\u001b[43m)\u001b[49m\n\u001b[0;32m    389\u001b[0m     \u001b[38;5;66;03m# A GUI class may be need to update a window using this draw, so\u001b[39;00m\n\u001b[0;32m    390\u001b[0m     \u001b[38;5;66;03m# don't forget to call the superclass.\u001b[39;00m\n\u001b[0;32m    391\u001b[0m     \u001b[38;5;28msuper\u001b[39m()\u001b[38;5;241m.\u001b[39mdraw()\n",
      "File \u001b[1;32m~\\AppData\\Local\\Packages\\PythonSoftwareFoundation.Python.3.11_qbz5n2kfra8p0\\LocalCache\\local-packages\\Python311\\site-packages\\matplotlib\\artist.py:95\u001b[0m, in \u001b[0;36m_finalize_rasterization.<locals>.draw_wrapper\u001b[1;34m(artist, renderer, *args, **kwargs)\u001b[0m\n\u001b[0;32m     93\u001b[0m \u001b[38;5;129m@wraps\u001b[39m(draw)\n\u001b[0;32m     94\u001b[0m \u001b[38;5;28;01mdef\u001b[39;00m \u001b[38;5;21mdraw_wrapper\u001b[39m(artist, renderer, \u001b[38;5;241m*\u001b[39margs, \u001b[38;5;241m*\u001b[39m\u001b[38;5;241m*\u001b[39mkwargs):\n\u001b[1;32m---> 95\u001b[0m     result \u001b[38;5;241m=\u001b[39m \u001b[43mdraw\u001b[49m\u001b[43m(\u001b[49m\u001b[43martist\u001b[49m\u001b[43m,\u001b[49m\u001b[43m \u001b[49m\u001b[43mrenderer\u001b[49m\u001b[43m,\u001b[49m\u001b[43m \u001b[49m\u001b[38;5;241;43m*\u001b[39;49m\u001b[43margs\u001b[49m\u001b[43m,\u001b[49m\u001b[43m \u001b[49m\u001b[38;5;241;43m*\u001b[39;49m\u001b[38;5;241;43m*\u001b[39;49m\u001b[43mkwargs\u001b[49m\u001b[43m)\u001b[49m\n\u001b[0;32m     96\u001b[0m     \u001b[38;5;28;01mif\u001b[39;00m renderer\u001b[38;5;241m.\u001b[39m_rasterizing:\n\u001b[0;32m     97\u001b[0m         renderer\u001b[38;5;241m.\u001b[39mstop_rasterizing()\n",
      "File \u001b[1;32m~\\AppData\\Local\\Packages\\PythonSoftwareFoundation.Python.3.11_qbz5n2kfra8p0\\LocalCache\\local-packages\\Python311\\site-packages\\matplotlib\\artist.py:72\u001b[0m, in \u001b[0;36mallow_rasterization.<locals>.draw_wrapper\u001b[1;34m(artist, renderer)\u001b[0m\n\u001b[0;32m     69\u001b[0m     \u001b[38;5;28;01mif\u001b[39;00m artist\u001b[38;5;241m.\u001b[39mget_agg_filter() \u001b[38;5;129;01mis\u001b[39;00m \u001b[38;5;129;01mnot\u001b[39;00m \u001b[38;5;28;01mNone\u001b[39;00m:\n\u001b[0;32m     70\u001b[0m         renderer\u001b[38;5;241m.\u001b[39mstart_filter()\n\u001b[1;32m---> 72\u001b[0m     \u001b[38;5;28;01mreturn\u001b[39;00m \u001b[43mdraw\u001b[49m\u001b[43m(\u001b[49m\u001b[43martist\u001b[49m\u001b[43m,\u001b[49m\u001b[43m \u001b[49m\u001b[43mrenderer\u001b[49m\u001b[43m)\u001b[49m\n\u001b[0;32m     73\u001b[0m \u001b[38;5;28;01mfinally\u001b[39;00m:\n\u001b[0;32m     74\u001b[0m     \u001b[38;5;28;01mif\u001b[39;00m artist\u001b[38;5;241m.\u001b[39mget_agg_filter() \u001b[38;5;129;01mis\u001b[39;00m \u001b[38;5;129;01mnot\u001b[39;00m \u001b[38;5;28;01mNone\u001b[39;00m:\n",
      "File \u001b[1;32m~\\AppData\\Local\\Packages\\PythonSoftwareFoundation.Python.3.11_qbz5n2kfra8p0\\LocalCache\\local-packages\\Python311\\site-packages\\matplotlib\\figure.py:3154\u001b[0m, in \u001b[0;36mFigure.draw\u001b[1;34m(self, renderer)\u001b[0m\n\u001b[0;32m   3151\u001b[0m         \u001b[38;5;66;03m# ValueError can occur when resizing a window.\u001b[39;00m\n\u001b[0;32m   3153\u001b[0m \u001b[38;5;28mself\u001b[39m\u001b[38;5;241m.\u001b[39mpatch\u001b[38;5;241m.\u001b[39mdraw(renderer)\n\u001b[1;32m-> 3154\u001b[0m \u001b[43mmimage\u001b[49m\u001b[38;5;241;43m.\u001b[39;49m\u001b[43m_draw_list_compositing_images\u001b[49m\u001b[43m(\u001b[49m\n\u001b[0;32m   3155\u001b[0m \u001b[43m    \u001b[49m\u001b[43mrenderer\u001b[49m\u001b[43m,\u001b[49m\u001b[43m \u001b[49m\u001b[38;5;28;43mself\u001b[39;49m\u001b[43m,\u001b[49m\u001b[43m \u001b[49m\u001b[43martists\u001b[49m\u001b[43m,\u001b[49m\u001b[43m \u001b[49m\u001b[38;5;28;43mself\u001b[39;49m\u001b[38;5;241;43m.\u001b[39;49m\u001b[43msuppressComposite\u001b[49m\u001b[43m)\u001b[49m\n\u001b[0;32m   3157\u001b[0m \u001b[38;5;28;01mfor\u001b[39;00m sfig \u001b[38;5;129;01min\u001b[39;00m \u001b[38;5;28mself\u001b[39m\u001b[38;5;241m.\u001b[39msubfigs:\n\u001b[0;32m   3158\u001b[0m     sfig\u001b[38;5;241m.\u001b[39mdraw(renderer)\n",
      "File \u001b[1;32m~\\AppData\\Local\\Packages\\PythonSoftwareFoundation.Python.3.11_qbz5n2kfra8p0\\LocalCache\\local-packages\\Python311\\site-packages\\matplotlib\\image.py:132\u001b[0m, in \u001b[0;36m_draw_list_compositing_images\u001b[1;34m(renderer, parent, artists, suppress_composite)\u001b[0m\n\u001b[0;32m    130\u001b[0m \u001b[38;5;28;01mif\u001b[39;00m not_composite \u001b[38;5;129;01mor\u001b[39;00m \u001b[38;5;129;01mnot\u001b[39;00m has_images:\n\u001b[0;32m    131\u001b[0m     \u001b[38;5;28;01mfor\u001b[39;00m a \u001b[38;5;129;01min\u001b[39;00m artists:\n\u001b[1;32m--> 132\u001b[0m         \u001b[43ma\u001b[49m\u001b[38;5;241;43m.\u001b[39;49m\u001b[43mdraw\u001b[49m\u001b[43m(\u001b[49m\u001b[43mrenderer\u001b[49m\u001b[43m)\u001b[49m\n\u001b[0;32m    133\u001b[0m \u001b[38;5;28;01melse\u001b[39;00m:\n\u001b[0;32m    134\u001b[0m     \u001b[38;5;66;03m# Composite any adjacent images together\u001b[39;00m\n\u001b[0;32m    135\u001b[0m     image_group \u001b[38;5;241m=\u001b[39m []\n",
      "File \u001b[1;32m~\\AppData\\Local\\Packages\\PythonSoftwareFoundation.Python.3.11_qbz5n2kfra8p0\\LocalCache\\local-packages\\Python311\\site-packages\\matplotlib\\artist.py:72\u001b[0m, in \u001b[0;36mallow_rasterization.<locals>.draw_wrapper\u001b[1;34m(artist, renderer)\u001b[0m\n\u001b[0;32m     69\u001b[0m     \u001b[38;5;28;01mif\u001b[39;00m artist\u001b[38;5;241m.\u001b[39mget_agg_filter() \u001b[38;5;129;01mis\u001b[39;00m \u001b[38;5;129;01mnot\u001b[39;00m \u001b[38;5;28;01mNone\u001b[39;00m:\n\u001b[0;32m     70\u001b[0m         renderer\u001b[38;5;241m.\u001b[39mstart_filter()\n\u001b[1;32m---> 72\u001b[0m     \u001b[38;5;28;01mreturn\u001b[39;00m \u001b[43mdraw\u001b[49m\u001b[43m(\u001b[49m\u001b[43martist\u001b[49m\u001b[43m,\u001b[49m\u001b[43m \u001b[49m\u001b[43mrenderer\u001b[49m\u001b[43m)\u001b[49m\n\u001b[0;32m     73\u001b[0m \u001b[38;5;28;01mfinally\u001b[39;00m:\n\u001b[0;32m     74\u001b[0m     \u001b[38;5;28;01mif\u001b[39;00m artist\u001b[38;5;241m.\u001b[39mget_agg_filter() \u001b[38;5;129;01mis\u001b[39;00m \u001b[38;5;129;01mnot\u001b[39;00m \u001b[38;5;28;01mNone\u001b[39;00m:\n",
      "File \u001b[1;32m~\\AppData\\Local\\Packages\\PythonSoftwareFoundation.Python.3.11_qbz5n2kfra8p0\\LocalCache\\local-packages\\Python311\\site-packages\\mpl_toolkits\\mplot3d\\axes3d.py:472\u001b[0m, in \u001b[0;36mAxes3D.draw\u001b[1;34m(self, renderer)\u001b[0m\n\u001b[0;32m    468\u001b[0m zorder_offset \u001b[38;5;241m=\u001b[39m \u001b[38;5;28mmax\u001b[39m(axis\u001b[38;5;241m.\u001b[39mget_zorder()\n\u001b[0;32m    469\u001b[0m                     \u001b[38;5;28;01mfor\u001b[39;00m axis \u001b[38;5;129;01min\u001b[39;00m \u001b[38;5;28mself\u001b[39m\u001b[38;5;241m.\u001b[39m_axis_map\u001b[38;5;241m.\u001b[39mvalues()) \u001b[38;5;241m+\u001b[39m \u001b[38;5;241m1\u001b[39m\n\u001b[0;32m    470\u001b[0m collection_zorder \u001b[38;5;241m=\u001b[39m patch_zorder \u001b[38;5;241m=\u001b[39m zorder_offset\n\u001b[1;32m--> 472\u001b[0m \u001b[38;5;28;01mfor\u001b[39;00m artist \u001b[38;5;129;01min\u001b[39;00m \u001b[38;5;28msorted\u001b[39m(collections_and_patches,\n\u001b[0;32m    473\u001b[0m                      key\u001b[38;5;241m=\u001b[39m\u001b[38;5;28;01mlambda\u001b[39;00m artist: artist\u001b[38;5;241m.\u001b[39mdo_3d_projection(),\n\u001b[0;32m    474\u001b[0m                      reverse\u001b[38;5;241m=\u001b[39m\u001b[38;5;28;01mTrue\u001b[39;00m):\n\u001b[0;32m    475\u001b[0m     \u001b[38;5;28;01mif\u001b[39;00m \u001b[38;5;28misinstance\u001b[39m(artist, mcoll\u001b[38;5;241m.\u001b[39mCollection):\n\u001b[0;32m    476\u001b[0m         artist\u001b[38;5;241m.\u001b[39mzorder \u001b[38;5;241m=\u001b[39m collection_zorder\n",
      "File \u001b[1;32m~\\AppData\\Local\\Packages\\PythonSoftwareFoundation.Python.3.11_qbz5n2kfra8p0\\LocalCache\\local-packages\\Python311\\site-packages\\mpl_toolkits\\mplot3d\\axes3d.py:473\u001b[0m, in \u001b[0;36mAxes3D.draw.<locals>.<lambda>\u001b[1;34m(artist)\u001b[0m\n\u001b[0;32m    468\u001b[0m zorder_offset \u001b[38;5;241m=\u001b[39m \u001b[38;5;28mmax\u001b[39m(axis\u001b[38;5;241m.\u001b[39mget_zorder()\n\u001b[0;32m    469\u001b[0m                     \u001b[38;5;28;01mfor\u001b[39;00m axis \u001b[38;5;129;01min\u001b[39;00m \u001b[38;5;28mself\u001b[39m\u001b[38;5;241m.\u001b[39m_axis_map\u001b[38;5;241m.\u001b[39mvalues()) \u001b[38;5;241m+\u001b[39m \u001b[38;5;241m1\u001b[39m\n\u001b[0;32m    470\u001b[0m collection_zorder \u001b[38;5;241m=\u001b[39m patch_zorder \u001b[38;5;241m=\u001b[39m zorder_offset\n\u001b[0;32m    472\u001b[0m \u001b[38;5;28;01mfor\u001b[39;00m artist \u001b[38;5;129;01min\u001b[39;00m \u001b[38;5;28msorted\u001b[39m(collections_and_patches,\n\u001b[1;32m--> 473\u001b[0m                      key\u001b[38;5;241m=\u001b[39m\u001b[38;5;28;01mlambda\u001b[39;00m artist: \u001b[43martist\u001b[49m\u001b[38;5;241;43m.\u001b[39;49m\u001b[43mdo_3d_projection\u001b[49m\u001b[43m(\u001b[49m\u001b[43m)\u001b[49m,\n\u001b[0;32m    474\u001b[0m                      reverse\u001b[38;5;241m=\u001b[39m\u001b[38;5;28;01mTrue\u001b[39;00m):\n\u001b[0;32m    475\u001b[0m     \u001b[38;5;28;01mif\u001b[39;00m \u001b[38;5;28misinstance\u001b[39m(artist, mcoll\u001b[38;5;241m.\u001b[39mCollection):\n\u001b[0;32m    476\u001b[0m         artist\u001b[38;5;241m.\u001b[39mzorder \u001b[38;5;241m=\u001b[39m collection_zorder\n",
      "File \u001b[1;32m~\\AppData\\Local\\Packages\\PythonSoftwareFoundation.Python.3.11_qbz5n2kfra8p0\\LocalCache\\local-packages\\Python311\\site-packages\\mpl_toolkits\\mplot3d\\art3d.py:772\u001b[0m, in \u001b[0;36mPath3DCollection.do_3d_projection\u001b[1;34m(self)\u001b[0m\n\u001b[0;32m    769\u001b[0m PathCollection\u001b[38;5;241m.\u001b[39mset_offsets(\u001b[38;5;28mself\u001b[39m, np\u001b[38;5;241m.\u001b[39mcolumn_stack((vxs, vys)))\n\u001b[0;32m    771\u001b[0m \u001b[38;5;66;03m# Re-order items\u001b[39;00m\n\u001b[1;32m--> 772\u001b[0m vzs \u001b[38;5;241m=\u001b[39m \u001b[43mvzs\u001b[49m\u001b[43m[\u001b[49m\u001b[43mz_markers_idx\u001b[49m\u001b[43m]\u001b[49m\n\u001b[0;32m    773\u001b[0m vxs \u001b[38;5;241m=\u001b[39m vxs[z_markers_idx]\n\u001b[0;32m    774\u001b[0m vys \u001b[38;5;241m=\u001b[39m vys[z_markers_idx]\n",
      "\u001b[1;31mIndexError\u001b[0m: invalid index to scalar variable."
     ]
    }
   ],
   "source": [
    "c1 = Charge(1, 2, 3, e)\n",
    "charges = [c1]\n",
    "electron = Electron(-1, -2, -3)\n",
    "create_animation(charges, electron)"
   ]
  },
  {
   "cell_type": "code",
   "execution_count": null,
   "id": "05cec330-5ef6-4bab-9164-96e89c81e160",
   "metadata": {},
   "outputs": [],
   "source": []
  }
 ],
 "metadata": {
  "kernelspec": {
   "display_name": "Python 3 (ipykernel)",
   "language": "python",
   "name": "python3"
  },
  "language_info": {
   "codemirror_mode": {
    "name": "ipython",
    "version": 3
   },
   "file_extension": ".py",
   "mimetype": "text/x-python",
   "name": "python",
   "nbconvert_exporter": "python",
   "pygments_lexer": "ipython3",
   "version": "3.11.9"
  }
 },
 "nbformat": 4,
 "nbformat_minor": 5
}
