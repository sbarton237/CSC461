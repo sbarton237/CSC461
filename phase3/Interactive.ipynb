{
 "cells": [
  {
   "cell_type": "code",
   "execution_count": 1,
   "id": "26bb1a09-dd7c-428e-8d7a-3b4619786731",
   "metadata": {},
   "outputs": [],
   "source": [
    "import math #basic python math library, used for square rooting and getting pi\n",
    "import numpy as np #common library, source of numpy arrays which are easier to manipulate as vectors than your average python list\n",
    "\n",
    "from scipy.constants import e, m_e, epsilon_0 \n",
    "#physics constants I need, the charge of a proton or electron (e), the mass of an electron (m_e), and epsilon naught\n",
    "\n",
    "import matplotlib.pyplot as plt #for plotting data\n",
    "import matplotlib.animation as animation #to create animation\n",
    "from IPython.display import HTML #making it possible to display my animation"
   ]
  },
  {
   "cell_type": "code",
   "execution_count": 2,
   "id": "feb7c797-2ae7-472f-8d7b-2d2365b5a03e",
   "metadata": {},
   "outputs": [],
   "source": [
    "class Charge: #class to create Charge objects, which will make it easier to work with charges\n",
    "\n",
    "    def __init__(self, x, y, charge): #initiation function, magic method\n",
    "        self.x_pos = float(x) #getting the x coordinate\n",
    "        self.y_pos = float(y) #getting the y coordinate\n",
    "        self.charge = charge #getting the charge of the particle\n",
    "\n",
    "    def get_position(self): #function to get the position of a charge\n",
    "        return np.array([self.x_pos, self.y_pos]) #returning it as an array with (x, y)\n",
    "\n",
    "    def get_charge(self): #function to get the charge of a charge\n",
    "        return self.charge #return the charge"
   ]
  },
  {
   "cell_type": "code",
   "execution_count": 3,
   "id": "2408c980-cef0-4053-8fed-9e1881463bbc",
   "metadata": {},
   "outputs": [],
   "source": [
    "class Electron: #class to create Electron objects, which will allow me to make functions for electrons\n",
    "\n",
    "    def __init__(self, x, y): #initiation function, magic method\n",
    "        self.position = np.array([float(x), float(y)]) #creating the position, using the given x and y coordinates, as an array\n",
    "        self.charge = -e #all electrons have a charge of -e\n",
    "        self.velocity = np.array([0.0, 0.0]) #start with 0 velocity\n",
    "        self.acceleration = np.array([0.0, 0.0]) #start with 0 acceleration\n",
    "\n",
    "    def get_position(self): #function to get the position of an electrno\n",
    "        return self.position #return the position\n",
    "\n",
    "    def get_force(self, charges): #function to get the sum of all the forces on an electron\n",
    "        force = np.array([0.0, 0.0]) #start with 0\n",
    "        for charge in charges: #then go through each charge\n",
    "            r = math.sqrt((charge.get_position() - self.get_position())[0] ** 2 + (charge.get_position() - self.get_position())[1] ** 2)\n",
    "            #get the distance from electron to charge\n",
    "            force += (self.get_position() - charge.get_position()) * charge.get_charge() * self.charge / 4 / math.pi / epsilon_0 / (r ** 3)\n",
    "            #use Coloumb's Law to find the force a single charge places on the electron and add it to the current force\n",
    "        self.acceleration = force / m_e #Newton's second law, f=ma, so a=f/m\n",
    "   \n",
    "    def get_acceleration(self): #return the acceleration\n",
    "        return self.acceleration #return acceleration\n",
    "\n",
    "    def get_velocity(self):\n",
    "        return self.velocity\n",
    "\n",
    "    def update_velocity(self): #changing velocity\n",
    "        self.velocity += self.acceleration #small increments, velocity changes by acceleration\n",
    "\n",
    "    def update_position(self): #changing position\n",
    "        self.position += self.velocity #small increments, position changes by velocity"
   ]
  },
  {
   "cell_type": "code",
   "execution_count": 4,
   "id": "66ceb129-dcdc-4739-94ab-86852dc9d79d",
   "metadata": {},
   "outputs": [],
   "source": [
    "def electron_update(charges, electron): #function to update the state of the electron\n",
    "\n",
    "    electron.get_force(charges) #getting the current force\n",
    "    electron.update_velocity() #updating velocity\n",
    "    electron.update_position() #updating position"
   ]
  },
  {
   "cell_type": "code",
   "execution_count": 11,
   "id": "0ebec819-f725-433e-a426-c2385afb1ae6",
   "metadata": {},
   "outputs": [],
   "source": [
    "i = 1 #start with one frame\n",
    "\n",
    "def gen(charges, electron): #making a generator function!\n",
    "    global i #letting us access i, prevents it from resetting\n",
    "    sep = True #boolean to determine if you should continue\n",
    "    while sep:\n",
    "        print(i)\n",
    "        for charge in charges: #look at each charge\n",
    "            if abs(electron.get_position()[0] - charge.get_position()[0]) < 4 and abs(electron.get_position()[1] - charge.get_position()[1]) < 4:\n",
    "            #if the electron is practically on the charge\n",
    "                sep = False #don't continue\n",
    "                print(\"on charge\") #let us know we are on a charge\n",
    "                print(charge.get_position(), electron.get_position()) #print both locations\n",
    "                print(abs(electron.get_position()[0] - charge.get_position()[0]), abs(electron.get_position()[1] - charge.get_position()[1])) #print distance\n",
    "                break #exit this loop\n",
    "        if abs(electron.get_position()[0]) > 100 or abs(electron.get_position()[1]) > 100: #if it's outside of the boundaries of the simulation\n",
    "            print(\"left boundaries\")\n",
    "            sep = False #don't continue\n",
    "        if np.array_equal(electron.get_velocity(), [0.0,0.0]) and np.array_equal(electron.get_acceleration(), [0.0, 0.0]): #if the velocity + acceleration is 0\n",
    "            print(\"no velocity/acceleration\") #let us know that the velocity/acceleration is 0\n",
    "            print(electron.get_velocity(), electron.get_acceleration()) #prove it\n",
    "            sep = False #don't continue\n",
    "        if sep == True: #if we still should continue\n",
    "            i += 1 #up the frame number\n",
    "            #print(i)\n",
    "            yield i #iteration version of return"
   ]
  },
  {
   "cell_type": "code",
   "execution_count": 2,
   "id": "8b930845-b28d-4cbd-b378-f67b865a9525",
   "metadata": {},
   "outputs": [],
   "source": [
    "def create_animation(charges, electron): #creating the animation\n",
    "\n",
    "    fig, ax = plt.subplots() #needed elements of the plot\n",
    "    \n",
    "    scatter = ax.scatter([c.get_position()[0] for c in charges if c.get_charge() > 0], [c.get_position()[1] for c in charges if c.get_charge() > 0], c=\"r\", label=\"+ charges\")\n",
    "    #placing all of the positive charges on the plot, coloring them red\n",
    "    scatter = ax.scatter([c.get_position()[0] for c in charges if c.get_charge() < 0], [c.get_position()[1] for c in charges if c.get_charge() < 0 ], c=\"b\", label=\"- charges\")\n",
    "    #placing all of the negative charges on the plot, coloring them blue\n",
    "    scatter = ax.scatter(electron.get_position()[0], electron.get_position()[1], c=\"g\", label=\"electron\")\n",
    "    #place the electron on the plot, coloring it green\n",
    "\n",
    "    ax.set_xlim([-100, 100]) #making the x-axis -100 to 100\n",
    "    ax.set_ylim([-100, 100]) #making the y-axis -100 to 100\n",
    "    ax.legend() #show the legend\n",
    "\n",
    "    def update(frame): #update function!\n",
    "\n",
    "        electron_update(charges, electron) #call the update function to set the values\n",
    "        scatter.set_offsets(electron.get_position()) #update the position of the electron\n",
    "        return scatter #return the new scatter plot\n",
    "\n",
    "    electron.get_force(charges) #not have starting acceleration 0\n",
    "    anim = animation.FuncAnimation(fig=fig, func=update, frames=gen(charges, electron), interval=10, save_count=1000) #create the animation\n",
    "    plt.close() #close the plot\n",
    "\n",
    "    return HTML(anim.to_jshtml()) #return the HTML to make the animation"
   ]
  },
  {
   "cell_type": "code",
   "execution_count": null,
   "id": "165437a9-e126-4dee-b6ba-b90ef158011a",
   "metadata": {},
   "outputs": [
    {
     "name": "stdout",
     "output_type": "stream",
     "text": [
      "This program will create a 2d simulation with point charges fixed in place and an unsecured electron.\n",
      "The dimensions are (-100, 100) by (-100, 100).\n",
      "\n",
      "First, create your Charges.\n"
     ]
    }
   ],
   "source": [
    "print(\"This program will create a 2d simulation with point charges fixed in place and an unsecured electron.\")\n",
    "print(\"The dimensions are (-100, 100) by (-100, 100).\")\n",
    "print()\n",
    "print(\"First, create your Charges.\")\n",
    "q = int(input(\"Number of Charges (int): \"))\n",
    "charges = []\n",
    "for i in range(q):\n",
    "    x = float(input(\"Enter x coordinate (float): \"))\n",
    "    y = float(input(\"Enter y coordinate (float): \"))\n",
    "    c = float(input(\"Enter charge (float): \"))\n",
    "    charges.append(Charge(x, y, c * e))\n",
    "print(\"Second, locate your Electron.\")\n",
    "x = float(input(\"Enter x coordinate (float): \"))\n",
    "y = float(input(\"Enter y coordinate (float): \"))\n",
    "electron = Electron(x, y)\n",
    "create_animation(charges, electron)"
   ]
  },
  {
   "cell_type": "code",
   "execution_count": null,
   "id": "84fb121a-4d67-4ed6-b3f1-a51dd3b79448",
   "metadata": {},
   "outputs": [],
   "source": []
  }
 ],
 "metadata": {
  "kernelspec": {
   "display_name": "Python 3 (ipykernel)",
   "language": "python",
   "name": "python3"
  },
  "language_info": {
   "codemirror_mode": {
    "name": "ipython",
    "version": 3
   },
   "file_extension": ".py",
   "mimetype": "text/x-python",
   "name": "python",
   "nbconvert_exporter": "python",
   "pygments_lexer": "ipython3",
   "version": "3.11.9"
  }
 },
 "nbformat": 4,
 "nbformat_minor": 5
}
