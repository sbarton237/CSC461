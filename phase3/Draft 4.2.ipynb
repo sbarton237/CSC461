{
 "cells": [
  {
   "cell_type": "markdown",
   "id": "2fd49a0a-d662-4041-834a-a7063427ae0a",
   "metadata": {},
   "source": [
    "<center>\n",
    "    <h1>Modeling an Electron in a Field of Secured Point Charges</h1>\n",
    "</center>"
   ]
  },
  {
   "cell_type": "markdown",
   "id": "d10de3fd-8eda-4652-a33a-a05eca34281b",
   "metadata": {},
   "source": [
    "<h2>Introduction</h2>"
   ]
  },
  {
   "cell_type": "markdown",
   "id": "68c01b70-1599-44b8-b7ba-93d867ca12e1",
   "metadata": {},
   "source": [
    "Kinetics typically makes sense. You can see kinetics. But, you can't really see an electric field. The idea that an electron will move towards a positive charge and away from a negative charge might make sense, but it can be difficult to visualize where an electron might go in a more complicated field of charges. This project is about helping students in physics classes understand how electrons are moved in electric fields\n",
    "\n",
    "In my project, we are looking at an idealized simulation. The only forces present on the electron are the forces created by the charges, and those charges are all point charges fixed in place that won't be affected by each other. While not an extrememly realistic situation, it is a good situation for beginners to get a better understanding.\n",
    "\n",
    "The simulation relies on Coulomb's Law, which is used to calculate the force on a point charge by another point charge. It also uses Newton's Second Law (f=ma) to get acceleration from force. Finally, we use Reimann sums, as velocity is the area under the curve of acceleration and position the area under the curve of velocity."
   ]
  },
  {
   "cell_type": "markdown",
   "id": "33e9510e-7fce-47ff-96b1-93f2cb0b8a4e",
   "metadata": {},
   "source": [
    "<h2>Methodology</h2>"
   ]
  },
  {
   "cell_type": "markdown",
   "id": "a8e01b99-ec51-4646-8888-7af5586bc658",
   "metadata": {},
   "source": [
    "<h3>Imports and Libraries</h3>"
   ]
  },
  {
   "cell_type": "markdown",
   "id": "10435d66-aebd-4555-89cf-6da1db8cf46f",
   "metadata": {},
   "source": [
    "<p>The first cell in any coding project is typically for import statements, and this project is not an exception to that rule. Modeling requires much more than the basic Python, and all of the functions, objects, and constants that I need to make this project work are imported here.</p>\n",
    "<p>This cell wasn't written all at once. I'd go as far as to say that this cell was the one I wrote last because while I did most of the other work in order, I was consistently coming back to this cell and importing one more thing as I learned something else could be useful or that I needed one more thing to fix an error.</p>\n",
    "<p>Being able to easily import things from various libraries is one of the best parts about Python, and all of these things were needed and will be explained later in the context of my code.</p>"
   ]
  },
  {
   "cell_type": "code",
   "execution_count": 1,
   "id": "93b2368a-bcce-4fca-85b0-2f3e8740b1ce",
   "metadata": {},
   "outputs": [],
   "source": [
    "import math #basic python math library, used for square rooting and getting pi\n",
    "#https://docs.python.org/3/library/math.html#\n",
    "import numpy as np #common library, source of numpy arrays which are easier to manipulate as vectors than your average python list\n",
    "#https://numpy.org/doc/stable/index.html\n",
    "\n",
    "from scipy.constants import e, m_e, epsilon_0 \n",
    "#physics constants I need, the charge of a proton or electron (e), the mass of an electron (m_e), and epsilon naught\n",
    "#https://docs.scipy.org/doc/scipy/reference/constants.html\n",
    "\n",
    "import matplotlib.pyplot as plt #for plotting data\n",
    "#https://matplotlib.org/3.5.3/api/_as_gen/matplotlib.pyplot.html\n",
    "import matplotlib.animation as animation #to create animation\n",
    "#https://matplotlib.org/stable/api/animation_api.html\n",
    "from IPython.display import HTML #making it possible to display my animation\n",
    "#https://ipython.readthedocs.io/en/stable/api/generated/IPython.display.html"
   ]
  },
  {
   "cell_type": "markdown",
   "id": "3859168b-88df-4e64-a700-a14fef6e3da8",
   "metadata": {},
   "source": [
    "<h3>Basic Objects (Charge)</h3>"
   ]
  },
  {
   "cell_type": "markdown",
   "id": "7664479c-3ac3-49c6-a337-caa673750002",
   "metadata": {},
   "source": [
    "<p>The purpose of the Charge Object is to be able to make variables that can hold all of the parts of a charge. Simple variables, like ints and strings, can only hold one piece of information, and while lists can hold multiple pieces of information, they aren't consistent. All charges have the same types of information that they need to hold, so creating an Object is the simplest way to standardize charges.</p>\n",
    "<p>The first piece of information that a charge has is its position, where it is located on the graph. Since this model is only 2D, the position has only two parts, the x element and the y element. This could be held in a list or as two seperate floats, but I decided to have position be an ndarray for the abilities that ndarrays have for math. ndarray's function similarly to vectors, and can be added or subtracted while lists can't be. When two lists are added together, they get concatenated, but when two ndarrays of the same length are added or subtracted, a new ndarray is created where the elements in each ndarray are added or subtracted, which is useful since I'll need to find the distance between charges and the electron in the future (<em>The N-dimensional</em>, n.d.).</p>\n",
    "<p>The second piece of information is the charge of the charge, which can be any positive or negative float. There really isn't anything complicated about the charge of a charge, but it's important to know.</p>\n",
    "<p>There a three methods (functions for objects are known as methods in Python) that a Charge Object has. The first every object needs, and that is an initialization method. It has two underscores in front of and behind its name because it is what is known as a magic method. Magic methods are different than normal methods because they aren't meant to be called directly. Since an object doesn't exist until initialization, it has to be a magic method because you can't call a method on an object that doesn't exist yet. Beyond initialization, there are two methods for a Charge Object known as getter methods. The purpose of these methods is to \"get\" the variable that exist within an object. Here, there's a getter method for position and a getter method for charge. All these do is return the value of the position or charge of a Charge Object.</p>"
   ]
  },
  {
   "cell_type": "code",
   "execution_count": 2,
   "id": "3b7aec6a-e293-4ff1-870c-155496c62b9b",
   "metadata": {},
   "outputs": [],
   "source": [
    "class Charge: #class to create Charge objects, which will make it easier to work with charges\n",
    "\n",
    "    def __init__(self, x, y, charge): #initiation function, magic method\n",
    "        self.position = np.array([float(x), float(y)]) ##creating the position, using the given x and y coordinates, as an array\n",
    "        #https://numpy.org/doc/stable/reference/generated/numpy.array.html\n",
    "        self.charge = charge #getting the charge of the particle\n",
    "\n",
    "    def get_position(self): #function to get the position of a charge\n",
    "        return self.position #return the position\n",
    "\n",
    "    def get_charge(self): #function to get the charge of a charge\n",
    "        return self.charge #return the charge"
   ]
  },
  {
   "cell_type": "markdown",
   "id": "418a75cf-16b7-4611-9fc7-33e36c57488b",
   "metadata": {},
   "source": [
    "<h3>Complicated Objects (Electron)</h3>"
   ]
  },
  {
   "cell_type": "markdown",
   "id": "d098aa57-1064-418c-afe1-2f5952d98137",
   "metadata": {},
   "source": [
    "<p>Like for charges, I made an Electron Object to be able to hold all of the different parts of an electron. Unlike a charge, where everything is held constant throughout the simulation, an electron has a lot of things that are happening to it, and so needs more variable and more methods.</p>\n",
    "<p>First of all, there's more variables. Electron's also have position and charge (though all of them have a charge of -e), but since they are moving they also have a velocity and acceleration. These are both initially [0, 0] (using ndarrays because velocity and acceleration are both 2D vectors in a 2D space), as before the model starts the electron has no forces on it and does not start out moving.</p>\n",
    "<p>Electron's also have getter methods, but they only have them for position, velocity, and acceleration, because it can be assumed that every electron has a charge of -e so it is unnecessary to have a way to access the charge of the electron outside of the Electron Object.</p>\n",
    "<p>The most important method that an electron has is <em>get_force(self, charges)</em>. This method calculates the force on the electron at it's current position. It takes in a list of all of the charges the are on the graph. Starting with force=[0, 0], the force of each individual charge on the electron is calculated and added to the force to end up with the total force. The force is calculated with Coulmob's Law:</p>\n",
    "$$\n",
    "    F=\\frac{q_1*q_2}{4\\pi*e_0}*\\frac{r_1-r_2}{|r_1-r_2|^3}\n",
    "$$\n",
    "<p>Once the total force is calculated, acceleration can be found using Newton's Second Law ($F=ma$). For the purposes of the model, I slightly adjust the acceleration by dividing by an additional 100 so the acceleration is smaller than found. This is because using the actual acceleration results in the model failing due to consistent overshooting of position. Since force is inversely proportional to the square of the distance between the electron and a charge, once the electron gets too far away it will never course correct back to where it should end up. As large movements make it easy for the model to mess up, I've added in the adjustment to increase accuracy.</p>\n",
    "<p>Finally, there are methods to update the velocity and the position. Velocity is the area under the curve of acceleration, so when integration isn't desirable, velocity can be found through adding up all of the accelerations from start to finish. So, whenever velocity needs to be updated, acceleration is added to the current velocity. This same process works for position, as position is the area under the curve of velocity.</p>"
   ]
  },
  {
   "cell_type": "code",
   "execution_count": 3,
   "id": "93618140-f433-424c-87d1-ff1286330380",
   "metadata": {},
   "outputs": [],
   "source": [
    "class Electron: #class to create Electron objects, which will allow me to make functions for electrons\n",
    "\n",
    "    def __init__(self, x, y): #initiation function, magic method\n",
    "        self.position = np.array([float(x), float(y)]) #creating the position, using the given x and y coordinates, as an array\n",
    "        self.charge = -e #all electrons have a charge of -e\n",
    "        self.velocity = np.array([0.0, 0.0]) #start with 0 velocity\n",
    "        self.acceleration = np.array([0.0, 0.0]) #start with 0 acceleration\n",
    "\n",
    "    def get_position(self): #function to get the position of an electron\n",
    "        return self.position #return the position\n",
    "\n",
    "    def get_velocity(self): #function to get the velocity of an electron\n",
    "        return self.velocity #return the velocity\n",
    "    \n",
    "    def get_acceleration(self): #function to get the acceleration of an electron\n",
    "        return self.acceleration #return acceleration\n",
    "\n",
    "    def get_force(self, charges): #function to get the sum of all the forces on an electron\n",
    "        force = np.array([0.0, 0.0]) #start with 0\n",
    "        for charge in charges: #then go through each charge\n",
    "            r = math.sqrt((charge.get_position() - self.get_position())[0] ** 2 + (charge.get_position() - self.get_position())[1] ** 2)\n",
    "            #get the distance from electron to charge\n",
    "            force += (self.get_position() - charge.get_position()) * charge.get_charge() * self.charge / 4 / math.pi / epsilon_0 / (r ** 3)\n",
    "            #use Coulomb's Law to find the force a single charge places on the electron and add it to the current force\n",
    "        self.acceleration = force / m_e / 100 #Newton's second law, f=ma, so a=f/m\n",
    "\n",
    "    def update_velocity(self): #changing velocity\n",
    "        self.velocity += self.acceleration * .1 #small increments, velocity changes by acceleration\n",
    "\n",
    "    def update_position(self): #changing position\n",
    "        self.position += self.velocity * .1 #small increments, position changes by velocity"
   ]
  },
  {
   "cell_type": "markdown",
   "id": "1fc113f8-7407-4ef9-8d65-e3e549320858",
   "metadata": {},
   "source": [
    "<h3>Repeated Function</h3>"
   ]
  },
  {
   "cell_type": "markdown",
   "id": "aa680da0-c273-4376-b714-8f85be070b2b",
   "metadata": {},
   "source": [
    "<p>When you need to do the same thing over and over again, you make a function to do it so that you don't have to write the same couple of lines over and over again. While ultimately <em>electron_update(charges, electron)</em> only ended up getting called once in a group, these three things should always happen in succession, so it works out for making the code easier to understand.</p>\n",
    "<p>In order to update the electron for a new frame, three things need to happen. The first is finding the current force so acceleration can be found. Next, using that acceleration to get the new velocity. Then, that velocity is used to determine the next position for the electron. This function make it easy to update the electron because instead of calling all three of those things it the right order every time, I can just call <em>electron_update(charges, electron)</em>.</p>"
   ]
  },
  {
   "cell_type": "code",
   "execution_count": 4,
   "id": "893cfc19-ec4c-4840-8c3a-a6909a37b84f",
   "metadata": {},
   "outputs": [],
   "source": [
    "def electron_update(charges, electron): #function to update the state of the electron\n",
    "\n",
    "    electron.get_force(charges) #getting the current force\n",
    "    electron.update_velocity() #updating velocity\n",
    "    electron.update_position() #updating position"
   ]
  },
  {
   "cell_type": "markdown",
   "id": "b1821a2e-aa41-447c-aa7d-6a6a5647ca57",
   "metadata": {},
   "source": [
    "<h3>Generator Function</h3>"
   ]
  },
  {
   "cell_type": "markdown",
   "id": "37022cba-9502-42ba-88e3-addc0affcd57",
   "metadata": {},
   "source": [
    "<p>Generator functions have multiple purposes, but for my model, I need it in order to control my model. There are two main methods for determining how many frames an animation will run. The first is to hard code a number of frames, but that's not going to work for this model. The second method is to use a generator function. With a generator function, the animation will run until it stops yielding (returning) numbers (ImportanceOfBeingErnest, 2018). Since I want the model to stop updating and be complete under certain circumstances, a generator function is the best way for me to determine how many frames I want the model to run for.</p>\n",
    "<p>There's three possible stop conditions for when I want the model to end. The first is if the elecetron is touching a charge, which should only happen with a positive charge. Since the distance between charges will be so small at that point, the force of that one charge will overwhelm every other force and the electron will stay on that charge. My code can't understand that though, and would slingshot my electron out if I didn't stop the model. So, if the electron tooks a charge, the animation will stop. There's some range allowed because it's highly unlikely that the electron will ever have the exact same position as a charge.</p>\n",
    "<p>The next condition is if the electron leaves the boundaries of my graph. I've made the assumption that since force is inversely proportional to distance squared, once an electron leaves the boundaries of my graph it is never coming back because acceleration will never (or at least, never in a reasonable amount of time) be able to turn the velocity back around.</p>\n",
    "<p>Lastly, if both acceleration and velocity are [0, 0], the electron will not move again. Under those circumstances, it makes the most sense to stop modeling, as nothing will change from that point.</p>\n",
    "<p>If none of these conditions are met, that means the model is not complete and another frame should be generated, so I yield the frame count (i) to let FuncAnimation know that it should continue.</p>"
   ]
  },
  {
   "cell_type": "code",
   "execution_count": 5,
   "id": "39e937a0-46b9-4b25-8520-58f93a629e69",
   "metadata": {},
   "outputs": [],
   "source": [
    "def gen(charges, electron): #making a generator function!\n",
    "    i = 1 #start with one frame\n",
    "    sep = True #boolean to determine if you should continue\n",
    "    while sep:\n",
    "        #print(i)\n",
    "        for charge in charges: #look at each charge\n",
    "            if abs(electron.get_position()[0] - charge.get_position()[0]) < 2 and abs(electron.get_position()[1] - charge.get_position()[1]) < 2:\n",
    "            #if the electron is practically on the charge\n",
    "                sep = False #don't continue\n",
    "                print(\"on charge\") #let us know we are on a charge\n",
    "                print(charge.get_position(), electron.get_position()) #print both locations\n",
    "                print(abs(electron.get_position()[0] - charge.get_position()[0]), abs(electron.get_position()[1] - charge.get_position()[1])) #print distance\n",
    "                break #exit this loop\n",
    "        if abs(electron.get_position()[0]) > 100 or abs(electron.get_position()[1]) > 100: #if it's outside of the boundaries of the simulation\n",
    "            print(\"left boundaries\")\n",
    "            sep = False #don't continue\n",
    "        if np.array_equal(electron.get_velocity(), [0.0,0.0]) and np.array_equal(electron.get_acceleration(), [0.0, 0.0]): #if the velocity + acceleration is 0\n",
    "            print(\"no velocity/acceleration\") #let us know that the velocity/acceleration is 0\n",
    "            print(electron.get_velocity(), electron.get_acceleration()) #prove it\n",
    "            sep = False #don't continue\n",
    "        if sep == True: #if we still should continue\n",
    "            i += 1 #up the frame number\n",
    "            #print(i)\n",
    "            yield i #iteration version of return"
   ]
  },
  {
   "cell_type": "markdown",
   "id": "16f05662-e20d-438a-b83e-16eec508d270",
   "metadata": {},
   "source": [
    "<h3>Modeling</h3>"
   ]
  },
  {
   "cell_type": "markdown",
   "id": "6afe42f0-0ff4-4899-b9da-1bc197b9495f",
   "metadata": {},
   "source": [
    "<p>In order to make the main body of code more organized, I made a function to create the model, despite it only happening once. The function just takes in the charges and the electron so it can access all of them when creating the model.</p>\n",
    "<p>The first thing I needed to go was set up the original graph. The first thing you always need to do when plotting is create a figure (typically fig) and axes (typically ax). The figure is where the graph is being drawn, while the axes are each individual subplot on the figure. Since I only need one plot for the model, everything just happens on the one set of axes (<em>Matplotlib.pyplot.subplots</em>, n.d.). Next, I plot the position of all of the charges and the starting position for the electron. I plot the position of the positive charges and negative charges seperately so that they can be different colors, making it easier for users to undertand the model. The way I do this is by creating a list by indexing through all of the elements of the charges list, and adding it to the list if it the type of charge I want. Then, since I decided that my graph would be (-100, 100) by (-100, 100), I set those to be the limits for the x and y coordinates. Finally, I made the legend visible so users would know which colors indicated which type of objects.</p>\n",
    "<p>The next part is the update function, which is used for updating the animation for the model. Update functions for FuncAnimation are required to take \"frame\" as a parameter, so it does so (<em>Matplotlib.animation.FuncAnimation</em>, n.d.). When it's time to update to the next frame, this function is called. All it does is call <em>electron_update(charges, electron)</em>, update the position of the electron on the scatter plot by using <em>.set_offsets()</em>, which will move points on a scatter plot. Finally, it return the scatter plot so that the updated one is the one now in use.</p>\n",
    "<p>After that is creating the animation. Before the animation is created, I call <em>electron.get_force(charge)</em> so that the initial acceleration isn't [0, 0] and the model immediately stops. Once that is done, the animation is created with FuncAnimation. There's a couple of parts to that. First, it needs a figure where the animation is happening, and that's fig. Then, it needs a function that will be used for getting the next frame in the animation, that's my update function. Next is frames, which gets how many frames there are, this is where the generator function from before comes into use. After that is interval, which is set to 10, so when the animation runs there's 10 milliseconds between when frames switch. Finally, save_count is a backup for if the generator fails.</p>\n",
    "<p>Once the animation is created, I close the plot so it doesn't immediately pop up, as only one frame will pop up if the plot is shown without pushing it to the frontend. That's why what is return is <em>HTML(anim.to_jshtml())</em>, which basically turns the animation into something that can be read through HTML and shown on the frontend, where the user is.</p>"
   ]
  },
  {
   "cell_type": "code",
   "execution_count": 6,
   "id": "befe11f6-7389-4e9d-bb6e-e11a817e18b7",
   "metadata": {},
   "outputs": [],
   "source": [
    "def create_animation(charges, electron): #creating the animation\n",
    "\n",
    "    fig, ax = plt.subplots() #needed elements of the plot\n",
    "    #https://matplotlib.org/stable/api/_as_gen/matplotlib.pyplot.subplots.html\n",
    "    \n",
    "    scatter = ax.scatter([c.get_position()[0] for c in charges if c.get_charge() > 0], [c.get_position()[1] for c in charges if c.get_charge() > 0], c=\"r\", label=\"+ charges\")\n",
    "    #placing all of the positive charges on the plot, coloring them red\n",
    "    #https://matplotlib.org/stable/api/_as_gen/matplotlib.axes.Axes.scatter.html#matplotlib.axes.Axes.scatter\n",
    "    scatter = ax.scatter([c.get_position()[0] for c in charges if c.get_charge() < 0], [c.get_position()[1] for c in charges if c.get_charge() < 0 ], c=\"b\", label=\"- charges\")\n",
    "    #placing all of the negative charges on the plot, coloring them blue\n",
    "    scatter = ax.scatter(electron.get_position()[0], electron.get_position()[1], c=\"g\", label=\"electron\")\n",
    "    #place the electron on the plot, coloring it green\n",
    "\n",
    "    ax.set_xlim([-100, 100]) #making the x-axis -100 to 100\n",
    "    #https://matplotlib.org/stable/api/_as_gen/matplotlib.axes.Axes.set_xlim.html\n",
    "    ax.set_ylim([-100, 100]) #making the y-axis -100 to 100\n",
    "    #https://matplotlib.org/stable/api/_as_gen/matplotlib.axes.Axes.set_ylim.html\n",
    "    ax.legend() #show the legend\n",
    "    #https://matplotlib.org/stable/api/_as_gen/matplotlib.axes.Axes.legend.html\n",
    "    \n",
    "    def update(frame): #update function!\n",
    "\n",
    "        electron_update(charges, electron) #call the update function to set the values\n",
    "        scatter.set_offsets(electron.get_position()) #update the position of the electron\n",
    "        #https://matplotlib.org/stable/api/collections_api.html#matplotlib.collections.AsteriskPolygonCollection.set_offsets\n",
    "        return scatter #return the new scatter plot\n",
    "\n",
    "    electron.get_force(charges) #not have starting acceleration 0\n",
    "    anim = animation.FuncAnimation(fig=fig, func=update, frames=gen(charges, electron), interval=10, save_count=1000) #create the animation\n",
    "    #https://matplotlib.org/stable/api/_as_gen/matplotlib.animation.FuncAnimation.html\n",
    "    plt.close() #close the plot\n",
    "\n",
    "    return HTML(anim.to_jshtml()) #return the HTML to make the animation\n",
    "    #https://matplotlib.org/stable/api/_as_gen/matplotlib.animation.Animation.html#matplotlib.animation.Animation.to_jshtml"
   ]
  },
  {
   "cell_type": "markdown",
   "id": "f666be78-ddd5-4096-957d-29d3615b45f4",
   "metadata": {},
   "source": [
    "<h3>The Program</h3>"
   ]
  },
  {
   "cell_type": "markdown",
   "id": "aeb09f69-4a15-4c82-88fc-5b8b42c2d1a1",
   "metadata": {},
   "source": [
    "<p>This is the main body of code, while the rest of the cells were setting up things needed to make the model work, this is where everything is being pulled together. There's four main elements, the introduction, creating the charges, creating the electron, and finally, creating the model.</p>\n",
    "<p>First is the introduction. This is just a couple of simple print statement, where what the model does and its boundaries are.</p>\n",
    "<p>Second is creating the charges. The first thing that happens is asking how many charges a user wants to have, then turning that input into a number. That number is used as the range for a loop, where each time the loop goes through, another charge is created. In this loop, x position, y position, and charge are all asked for. Taking the information given, a new Charge Object is created and added to a list of charges for that model.</p>\n",
    "<p>Next is creating an electron. All that is needed for that is getting the x and y position, which is done through input functions.</p>\n",
    "<p>Lastly, the model is created by calling <em>create_animation(charges, electron)</em>.</p>"
   ]
  },
  {
   "cell_type": "code",
   "execution_count": null,
   "id": "9d9b46fb-532d-40d3-b6a8-286b15369c8d",
   "metadata": {},
   "outputs": [],
   "source": [
    "print(\"This program will create a 2d simulation with point charges fixed in place and an unsecured electron.\")\n",
    "print(\"The dimensions are (-100, 100) by (-100, 100).\")\n",
    "print()\n",
    "\n",
    "print(\"First, create your Charges.\")\n",
    "q = int(input(\"Number of Charges (int): \"))\n",
    "charges = []\n",
    "for i in range(q):\n",
    "    x = float(input(\"Enter x coordinate (float): \"))\n",
    "    y = float(input(\"Enter y coordinate (float): \"))\n",
    "    c = float(input(\"Enter charge (float): \"))\n",
    "    charges.append(Charge(x, y, c * e))\n",
    "    \n",
    "print(\"Second, locate your Electron.\")\n",
    "x = float(input(\"Enter x coordinate (float): \"))\n",
    "y = float(input(\"Enter y coordinate (float): \"))\n",
    "electron = Electron(x, y)\n",
    "\n",
    "create_animation(charges, electron)"
   ]
  },
  {
   "cell_type": "markdown",
   "id": "2123716b-749a-4a64-b085-8ab2893088c4",
   "metadata": {},
   "source": [
    "<h2>Results and Discussion</h2>"
   ]
  },
  {
   "cell_type": "markdown",
   "id": "d9f514df-2a36-428c-9180-e1425c70a49e",
   "metadata": {},
   "source": [
    "<h2>Conclusion</h2>"
   ]
  },
  {
   "cell_type": "markdown",
   "id": "88127d36-cf49-4830-84c8-3c4911500a4d",
   "metadata": {},
   "source": [
    "<h2>Citations</h2>"
   ]
  },
  {
   "cell_type": "markdown",
   "id": "2e192df2-4823-4372-ac6a-d9fd6a69e130",
   "metadata": {},
   "source": [
    "<p>\n",
    "    ImportanceOfBeingErnest. (2018, February 1). <em>How to stop FuncAnimation by func\n",
    "     in matplotlib? </em>[Online forum post]. Stack Overflow.\n",
    "     https://stackoverflow.com/questions/48564181/\n",
    "     how-to-stop-funcanimation-by-func-in-matplotlib\n",
    "</p>\n",
    "<p>\n",
    "    <em>Matplotlib.animation.FuncAnimation</em>. (n.d.). Matplotlib. Retrieved May 9, 2024,\n",
    "     from https://matplotlib.org/stable/api/_as_gen/\n",
    "     matplotlib.animation.FuncAnimation.html\n",
    "</p>\n",
    "<p>\n",
    "    <em>Matplotlib.animation.FuncAnimation</em>. (n.d.). Matplotlib. Retrieved May 9, 2024,\n",
    "     from https://matplotlib.org/stable/api/_as_gen/\n",
    "     matplotlib.animation.FuncAnimation.html\n",
    "</p>\n",
    "<p>\n",
    "    <em>The n-dimensional array (ndarray)</em>. (n.d.). NumPy. Retrieved May 9, 2024, from\n",
    "     https://numpy.org/doc/stable/reference/arrays.ndarray.html\n",
    "</p>"
   ]
  }
 ],
 "metadata": {
  "kernelspec": {
   "display_name": "Python 3 (ipykernel)",
   "language": "python",
   "name": "python3"
  },
  "language_info": {
   "codemirror_mode": {
    "name": "ipython",
    "version": 3
   },
   "file_extension": ".py",
   "mimetype": "text/x-python",
   "name": "python",
   "nbconvert_exporter": "python",
   "pygments_lexer": "ipython3",
   "version": "3.11.9"
  }
 },
 "nbformat": 4,
 "nbformat_minor": 5
}
